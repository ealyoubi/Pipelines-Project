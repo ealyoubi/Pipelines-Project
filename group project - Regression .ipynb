{
 "cells": [
  {
   "cell_type": "code",
   "execution_count": 1,
   "id": "bf722248",
   "metadata": {
    "executionInfo": {
     "elapsed": 6,
     "status": "ok",
     "timestamp": 1667072564371,
     "user": {
      "displayName": "ESRAA ZAHAM ALYOUBI",
      "userId": "10961204535067338449"
     },
     "user_tz": -180
    },
    "id": "bf722248"
   },
   "outputs": [],
   "source": [
    "import pandas as pd\n",
    "pd.plotting.register_matplotlib_converters()\n",
    "import matplotlib.pyplot as plt\n",
    "%matplotlib inline\n",
    "import numpy as np\n",
    "import seaborn as sns\n",
    "import math\n",
    "from sklearn import tree\n",
    "from sklearn.metrics import plot_confusion_matrix\n",
    "from sklearn.metrics import accuracy_score\n",
    "from sklearn.metrics import confusion_matrix\n",
    "from sklearn.svm import SVR\n",
    "from sklearn.svm import SVC\n",
    "# Pipeline\n",
    "from sklearn.pipeline import Pipeline\n",
    "from sklearn.pipeline import make_pipeline\n",
    "from sklearn.compose import ColumnTransformer\n",
    "\n",
    "from sklearn.model_selection import train_test_split\n",
    "from sklearn.linear_model import LogisticRegression\n",
    "from sklearn.linear_model import LinearRegression\n",
    "from sklearn.metrics import plot_confusion_matrix\n",
    "from sklearn.model_selection import cross_val_score\n",
    "from sklearn.metrics import classification_report\n",
    "from sklearn.metrics import accuracy_score\n",
    "from sklearn.metrics import r2_score\n",
    "\n",
    "# Cost Functions\n",
    "from sklearn.metrics import mean_squared_error\n",
    "from sklearn.metrics import mean_absolute_error\n",
    "from sklearn import metrics\n",
    "\n",
    "\n",
    "# Preprocessing\n",
    "from sklearn.impute import SimpleImputer\n",
    "\n",
    "# Scalers\n",
    "from sklearn.preprocessing import StandardScaler\n",
    "from sklearn.preprocessing import RobustScaler\n",
    "from sklearn.preprocessing import MinMaxScaler\n",
    "\n",
    "# Feature Engineering\n",
    "from sklearn.preprocessing import OneHotEncoder\n",
    "from sklearn.preprocessing import OrdinalEncoder\n",
    "# This is for regression\n",
    "from sklearn.tree import DecisionTreeRegressor \n",
    "from sklearn.ensemble import RandomForestRegressor\n",
    "from sklearn.tree import DecisionTreeClassifier\n",
    "from sklearn.ensemble import RandomForestClassifier\n",
    "from sklearn.svm import SVC\n",
    "\n",
    "# This is for classification\n",
    "from sklearn.tree import DecisionTreeClassifier\n",
    "from sklearn.ensemble import RandomForestClassifier\n",
    "\n",
    "#tuning\n",
    "from sklearn.model_selection import GridSearchCV\n"
   ]
  },
  {
   "cell_type": "code",
   "execution_count": 2,
   "id": "8578c3cd",
   "metadata": {
    "executionInfo": {
     "elapsed": 12,
     "status": "ok",
     "timestamp": 1667072578988,
     "user": {
      "displayName": "ESRAA ZAHAM ALYOUBI",
      "userId": "10961204535067338449"
     },
     "user_tz": -180
    },
    "id": "8578c3cd"
   },
   "outputs": [],
   "source": [
    "df = pd.read_csv('Consumer goods.csv')"
   ]
  },
  {
   "cell_type": "code",
   "execution_count": 3,
   "id": "ce194af9",
   "metadata": {
    "colab": {
     "base_uri": "https://localhost:8080/",
     "height": 354
    },
    "executionInfo": {
     "elapsed": 12,
     "status": "ok",
     "timestamp": 1667072578989,
     "user": {
      "displayName": "ESRAA ZAHAM ALYOUBI",
      "userId": "10961204535067338449"
     },
     "user_tz": -180
    },
    "id": "ce194af9",
    "outputId": "a887fb33-faeb-4d86-cf36-caa8b65a12d0"
   },
   "outputs": [
    {
     "data": {
      "text/html": [
       "<div>\n",
       "<style scoped>\n",
       "    .dataframe tbody tr th:only-of-type {\n",
       "        vertical-align: middle;\n",
       "    }\n",
       "\n",
       "    .dataframe tbody tr th {\n",
       "        vertical-align: top;\n",
       "    }\n",
       "\n",
       "    .dataframe thead th {\n",
       "        text-align: right;\n",
       "    }\n",
       "</style>\n",
       "<table border=\"1\" class=\"dataframe\">\n",
       "  <thead>\n",
       "    <tr style=\"text-align: right;\">\n",
       "      <th></th>\n",
       "      <th>Year</th>\n",
       "      <th>Type</th>\n",
       "      <th>Product group</th>\n",
       "      <th>Producer</th>\n",
       "      <th>Code</th>\n",
       "      <th>Volume</th>\n",
       "      <th>Cost per unit</th>\n",
       "      <th>Price per unit</th>\n",
       "      <th>Revenues</th>\n",
       "      <th>Total Cost</th>\n",
       "      <th>Profit Percent</th>\n",
       "      <th>Summary Profits</th>\n",
       "    </tr>\n",
       "  </thead>\n",
       "  <tbody>\n",
       "    <tr>\n",
       "      <th>0</th>\n",
       "      <td>2018</td>\n",
       "      <td>Convenience stores</td>\n",
       "      <td>Meat</td>\n",
       "      <td>J&amp;F</td>\n",
       "      <td>|13/12/38|</td>\n",
       "      <td>420</td>\n",
       "      <td>6.00</td>\n",
       "      <td>8.40</td>\n",
       "      <td>$3,542.00</td>\n",
       "      <td>$2,528.40</td>\n",
       "      <td>29</td>\n",
       "      <td>Good Profit</td>\n",
       "    </tr>\n",
       "    <tr>\n",
       "      <th>1</th>\n",
       "      <td>2018</td>\n",
       "      <td>Convenience stores</td>\n",
       "      <td>Meat</td>\n",
       "      <td>J&amp;F</td>\n",
       "      <td>|13/13/98|</td>\n",
       "      <td>480</td>\n",
       "      <td>6.10</td>\n",
       "      <td>7.40</td>\n",
       "      <td>$3,558.40</td>\n",
       "      <td>$2,947.20</td>\n",
       "      <td>17</td>\n",
       "      <td>Acceptable Profit</td>\n",
       "    </tr>\n",
       "    <tr>\n",
       "      <th>2</th>\n",
       "      <td>2018</td>\n",
       "      <td>Convenience stores</td>\n",
       "      <td>Meat</td>\n",
       "      <td>J&amp;F</td>\n",
       "      <td>|13/13/99|</td>\n",
       "      <td>528</td>\n",
       "      <td>5.40</td>\n",
       "      <td>7.60</td>\n",
       "      <td>$4,019.84</td>\n",
       "      <td>$2,837.12</td>\n",
       "      <td>29</td>\n",
       "      <td>Good Profit</td>\n",
       "    </tr>\n",
       "    <tr>\n",
       "      <th>3</th>\n",
       "      <td>2018</td>\n",
       "      <td>Convenience stores</td>\n",
       "      <td>Coffee</td>\n",
       "      <td>J&amp;F</td>\n",
       "      <td>|13/01/01|</td>\n",
       "      <td>4836</td>\n",
       "      <td>0.74</td>\n",
       "      <td>0.96</td>\n",
       "      <td>$4,642.56</td>\n",
       "      <td>$3,578.64</td>\n",
       "      <td>23</td>\n",
       "      <td>Good Profit</td>\n",
       "    </tr>\n",
       "    <tr>\n",
       "      <th>4</th>\n",
       "      <td>2018</td>\n",
       "      <td>Convenience stores</td>\n",
       "      <td>Coffee</td>\n",
       "      <td>J&amp;F</td>\n",
       "      <td>|13/01/01a|</td>\n",
       "      <td>5928</td>\n",
       "      <td>0.95</td>\n",
       "      <td>0.99</td>\n",
       "      <td>$5,868.72</td>\n",
       "      <td>$5,631.60</td>\n",
       "      <td>4</td>\n",
       "      <td>Acceptable Profit</td>\n",
       "    </tr>\n",
       "  </tbody>\n",
       "</table>\n",
       "</div>"
      ],
      "text/plain": [
       "   Year                Type Product group Producer         Code  Volume  \\\n",
       "0  2018  Convenience stores          Meat      J&F   |13/12/38|     420   \n",
       "1  2018  Convenience stores          Meat      J&F   |13/13/98|     480   \n",
       "2  2018  Convenience stores          Meat      J&F   |13/13/99|     528   \n",
       "3  2018  Convenience stores        Coffee      J&F   |13/01/01|    4836   \n",
       "4  2018  Convenience stores        Coffee      J&F  |13/01/01a|    5928   \n",
       "\n",
       "   Cost per unit  Price per unit   Revenues Total Cost  Profit Percent  \\\n",
       "0           6.00            8.40  $3,542.00  $2,528.40              29   \n",
       "1           6.10            7.40  $3,558.40  $2,947.20              17   \n",
       "2           5.40            7.60  $4,019.84  $2,837.12              29   \n",
       "3           0.74            0.96  $4,642.56  $3,578.64              23   \n",
       "4           0.95            0.99  $5,868.72  $5,631.60               4   \n",
       "\n",
       "     Summary Profits  \n",
       "0        Good Profit  \n",
       "1  Acceptable Profit  \n",
       "2        Good Profit  \n",
       "3        Good Profit  \n",
       "4  Acceptable Profit  "
      ]
     },
     "execution_count": 3,
     "metadata": {},
     "output_type": "execute_result"
    }
   ],
   "source": [
    "df.head()"
   ]
  },
  {
   "cell_type": "code",
   "execution_count": 4,
   "id": "5f125625",
   "metadata": {
    "colab": {
     "base_uri": "https://localhost:8080/"
    },
    "executionInfo": {
     "elapsed": 11,
     "status": "ok",
     "timestamp": 1667072578989,
     "user": {
      "displayName": "ESRAA ZAHAM ALYOUBI",
      "userId": "10961204535067338449"
     },
     "user_tz": -180
    },
    "id": "5f125625",
    "outputId": "86fcfb0c-defb-4993-bf8b-233b3d5b1fbe"
   },
   "outputs": [
    {
     "name": "stdout",
     "output_type": "stream",
     "text": [
      "<class 'pandas.core.frame.DataFrame'>\n",
      "RangeIndex: 15117 entries, 0 to 15116\n",
      "Data columns (total 12 columns):\n",
      " #   Column           Non-Null Count  Dtype  \n",
      "---  ------           --------------  -----  \n",
      " 0   Year             15117 non-null  object \n",
      " 1   Type             15117 non-null  object \n",
      " 2   Product group    15117 non-null  object \n",
      " 3   Producer         15117 non-null  object \n",
      " 4   Code             15117 non-null  object \n",
      " 5   Volume           15117 non-null  int64  \n",
      " 6   Cost per unit    15117 non-null  float64\n",
      " 7   Price per unit   15117 non-null  float64\n",
      " 8   Revenues         15117 non-null  object \n",
      " 9   Total Cost       15117 non-null  object \n",
      " 10  Profit Percent   15117 non-null  int64  \n",
      " 11  Summary Profits  15116 non-null  object \n",
      "dtypes: float64(2), int64(2), object(8)\n",
      "memory usage: 1.4+ MB\n"
     ]
    }
   ],
   "source": [
    "df.info()"
   ]
  },
  {
   "cell_type": "code",
   "execution_count": 5,
   "id": "cb8be83c",
   "metadata": {
    "colab": {
     "base_uri": "https://localhost:8080/",
     "height": 300
    },
    "executionInfo": {
     "elapsed": 7,
     "status": "ok",
     "timestamp": 1667072578989,
     "user": {
      "displayName": "ESRAA ZAHAM ALYOUBI",
      "userId": "10961204535067338449"
     },
     "user_tz": -180
    },
    "id": "cb8be83c",
    "outputId": "60d17093-ae3e-4c33-a06d-e554f60db1d7"
   },
   "outputs": [
    {
     "data": {
      "text/html": [
       "<div>\n",
       "<style scoped>\n",
       "    .dataframe tbody tr th:only-of-type {\n",
       "        vertical-align: middle;\n",
       "    }\n",
       "\n",
       "    .dataframe tbody tr th {\n",
       "        vertical-align: top;\n",
       "    }\n",
       "\n",
       "    .dataframe thead th {\n",
       "        text-align: right;\n",
       "    }\n",
       "</style>\n",
       "<table border=\"1\" class=\"dataframe\">\n",
       "  <thead>\n",
       "    <tr style=\"text-align: right;\">\n",
       "      <th></th>\n",
       "      <th>Volume</th>\n",
       "      <th>Cost per unit</th>\n",
       "      <th>Price per unit</th>\n",
       "      <th>Profit Percent</th>\n",
       "    </tr>\n",
       "  </thead>\n",
       "  <tbody>\n",
       "    <tr>\n",
       "      <th>count</th>\n",
       "      <td>15117.000000</td>\n",
       "      <td>15117.000000</td>\n",
       "      <td>15117.000000</td>\n",
       "      <td>15117.000000</td>\n",
       "    </tr>\n",
       "    <tr>\n",
       "      <th>mean</th>\n",
       "      <td>1437.010518</td>\n",
       "      <td>2.393392</td>\n",
       "      <td>3.201063</td>\n",
       "      <td>23.881193</td>\n",
       "    </tr>\n",
       "    <tr>\n",
       "      <th>std</th>\n",
       "      <td>1984.730748</td>\n",
       "      <td>1.414972</td>\n",
       "      <td>1.897611</td>\n",
       "      <td>12.935923</td>\n",
       "    </tr>\n",
       "    <tr>\n",
       "      <th>min</th>\n",
       "      <td>48.000000</td>\n",
       "      <td>0.400000</td>\n",
       "      <td>0.900000</td>\n",
       "      <td>-31.000000</td>\n",
       "    </tr>\n",
       "    <tr>\n",
       "      <th>25%</th>\n",
       "      <td>396.000000</td>\n",
       "      <td>1.140000</td>\n",
       "      <td>1.330000</td>\n",
       "      <td>15.000000</td>\n",
       "    </tr>\n",
       "    <tr>\n",
       "      <th>50%</th>\n",
       "      <td>792.000000</td>\n",
       "      <td>2.360000</td>\n",
       "      <td>3.240000</td>\n",
       "      <td>23.000000</td>\n",
       "    </tr>\n",
       "    <tr>\n",
       "      <th>75%</th>\n",
       "      <td>1452.000000</td>\n",
       "      <td>2.910000</td>\n",
       "      <td>3.920000</td>\n",
       "      <td>33.000000</td>\n",
       "    </tr>\n",
       "    <tr>\n",
       "      <th>max</th>\n",
       "      <td>9600.000000</td>\n",
       "      <td>6.700000</td>\n",
       "      <td>8.700000</td>\n",
       "      <td>66.000000</td>\n",
       "    </tr>\n",
       "  </tbody>\n",
       "</table>\n",
       "</div>"
      ],
      "text/plain": [
       "             Volume  Cost per unit  Price per unit  Profit Percent\n",
       "count  15117.000000   15117.000000    15117.000000    15117.000000\n",
       "mean    1437.010518       2.393392        3.201063       23.881193\n",
       "std     1984.730748       1.414972        1.897611       12.935923\n",
       "min       48.000000       0.400000        0.900000      -31.000000\n",
       "25%      396.000000       1.140000        1.330000       15.000000\n",
       "50%      792.000000       2.360000        3.240000       23.000000\n",
       "75%     1452.000000       2.910000        3.920000       33.000000\n",
       "max     9600.000000       6.700000        8.700000       66.000000"
      ]
     },
     "execution_count": 5,
     "metadata": {},
     "output_type": "execute_result"
    }
   ],
   "source": [
    "df.describe()"
   ]
  },
  {
   "cell_type": "code",
   "execution_count": 6,
   "id": "e5b07917",
   "metadata": {
    "colab": {
     "base_uri": "https://localhost:8080/",
     "height": 175
    },
    "executionInfo": {
     "elapsed": 10,
     "status": "ok",
     "timestamp": 1667072579527,
     "user": {
      "displayName": "ESRAA ZAHAM ALYOUBI",
      "userId": "10961204535067338449"
     },
     "user_tz": -180
    },
    "id": "e5b07917",
    "outputId": "d19390da-b759-42d7-c370-43771abd13c9"
   },
   "outputs": [
    {
     "data": {
      "text/html": [
       "<div>\n",
       "<style scoped>\n",
       "    .dataframe tbody tr th:only-of-type {\n",
       "        vertical-align: middle;\n",
       "    }\n",
       "\n",
       "    .dataframe tbody tr th {\n",
       "        vertical-align: top;\n",
       "    }\n",
       "\n",
       "    .dataframe thead th {\n",
       "        text-align: right;\n",
       "    }\n",
       "</style>\n",
       "<table border=\"1\" class=\"dataframe\">\n",
       "  <thead>\n",
       "    <tr style=\"text-align: right;\">\n",
       "      <th></th>\n",
       "      <th>Year</th>\n",
       "      <th>Type</th>\n",
       "      <th>Product group</th>\n",
       "      <th>Producer</th>\n",
       "      <th>Code</th>\n",
       "      <th>Revenues</th>\n",
       "      <th>Total Cost</th>\n",
       "      <th>Summary Profits</th>\n",
       "    </tr>\n",
       "  </thead>\n",
       "  <tbody>\n",
       "    <tr>\n",
       "      <th>count</th>\n",
       "      <td>15117</td>\n",
       "      <td>15117</td>\n",
       "      <td>15117</td>\n",
       "      <td>15117</td>\n",
       "      <td>15117</td>\n",
       "      <td>15117</td>\n",
       "      <td>15117</td>\n",
       "      <td>15116</td>\n",
       "    </tr>\n",
       "    <tr>\n",
       "      <th>unique</th>\n",
       "      <td>4</td>\n",
       "      <td>3</td>\n",
       "      <td>15</td>\n",
       "      <td>124</td>\n",
       "      <td>4033</td>\n",
       "      <td>8151</td>\n",
       "      <td>8133</td>\n",
       "      <td>3</td>\n",
       "    </tr>\n",
       "    <tr>\n",
       "      <th>top</th>\n",
       "      <td>2014 (6m)</td>\n",
       "      <td>Convenience stores</td>\n",
       "      <td>Fresh salads</td>\n",
       "      <td>North Cascade</td>\n",
       "      <td>|20/13/07|</td>\n",
       "      <td>$395.12</td>\n",
       "      <td>$72.00</td>\n",
       "      <td>Good Profit</td>\n",
       "    </tr>\n",
       "    <tr>\n",
       "      <th>freq</th>\n",
       "      <td>4032</td>\n",
       "      <td>12051</td>\n",
       "      <td>2770</td>\n",
       "      <td>899</td>\n",
       "      <td>4</td>\n",
       "      <td>17</td>\n",
       "      <td>23</td>\n",
       "      <td>7276</td>\n",
       "    </tr>\n",
       "  </tbody>\n",
       "</table>\n",
       "</div>"
      ],
      "text/plain": [
       "             Year                Type Product group       Producer  \\\n",
       "count       15117               15117         15117          15117   \n",
       "unique          4                   3            15            124   \n",
       "top     2014 (6m)  Convenience stores  Fresh salads  North Cascade   \n",
       "freq         4032               12051          2770            899   \n",
       "\n",
       "              Code Revenues Total Cost Summary Profits  \n",
       "count        15117    15117      15117           15116  \n",
       "unique        4033     8151       8133               3  \n",
       "top     |20/13/07|  $395.12     $72.00     Good Profit  \n",
       "freq             4       17         23            7276  "
      ]
     },
     "execution_count": 6,
     "metadata": {},
     "output_type": "execute_result"
    }
   ],
   "source": [
    "df.describe(exclude='number')"
   ]
  },
  {
   "cell_type": "code",
   "execution_count": 7,
   "id": "14b79b1f",
   "metadata": {
    "colab": {
     "base_uri": "https://localhost:8080/"
    },
    "executionInfo": {
     "elapsed": 10,
     "status": "ok",
     "timestamp": 1667072579528,
     "user": {
      "displayName": "ESRAA ZAHAM ALYOUBI",
      "userId": "10961204535067338449"
     },
     "user_tz": -180
    },
    "id": "14b79b1f",
    "outputId": "2a0f47a4-585a-471e-cdce-fb50f3794a33"
   },
   "outputs": [
    {
     "data": {
      "text/plain": [
       "Year               0\n",
       "Type               0\n",
       "Product group      0\n",
       "Producer           0\n",
       "Code               0\n",
       "Volume             0\n",
       "Cost per unit      0\n",
       "Price per unit     0\n",
       "Revenues           0\n",
       "Total Cost         0\n",
       "Profit Percent     0\n",
       "Summary Profits    1\n",
       "dtype: int64"
      ]
     },
     "execution_count": 7,
     "metadata": {},
     "output_type": "execute_result"
    }
   ],
   "source": [
    "df.isna().sum()"
   ]
  },
  {
   "cell_type": "code",
   "execution_count": 8,
   "id": "6e68e52d",
   "metadata": {
    "executionInfo": {
     "elapsed": 9,
     "status": "ok",
     "timestamp": 1667072579529,
     "user": {
      "displayName": "ESRAA ZAHAM ALYOUBI",
      "userId": "10961204535067338449"
     },
     "user_tz": -180
    },
    "id": "6e68e52d"
   },
   "outputs": [],
   "source": [
    "df['Summary Profits'].fillna(df['Summary Profits'].mode()[0], inplace = True)"
   ]
  },
  {
   "cell_type": "code",
   "execution_count": 9,
   "id": "cbd32450",
   "metadata": {
    "colab": {
     "base_uri": "https://localhost:8080/"
    },
    "executionInfo": {
     "elapsed": 10,
     "status": "ok",
     "timestamp": 1667072579530,
     "user": {
      "displayName": "ESRAA ZAHAM ALYOUBI",
      "userId": "10961204535067338449"
     },
     "user_tz": -180
    },
    "id": "cbd32450",
    "outputId": "6b03c337-d887-41bc-90e1-556c204dfc41"
   },
   "outputs": [
    {
     "data": {
      "text/plain": [
       "0        False\n",
       "1        False\n",
       "2        False\n",
       "3        False\n",
       "4        False\n",
       "         ...  \n",
       "15112    False\n",
       "15113    False\n",
       "15114    False\n",
       "15115    False\n",
       "15116    False\n",
       "Name: Summary Profits, Length: 15117, dtype: bool"
      ]
     },
     "execution_count": 9,
     "metadata": {},
     "output_type": "execute_result"
    }
   ],
   "source": [
    "df['Summary Profits'].isna()"
   ]
  },
  {
   "cell_type": "code",
   "execution_count": 10,
   "id": "8f5bf064",
   "metadata": {
    "colab": {
     "base_uri": "https://localhost:8080/"
    },
    "executionInfo": {
     "elapsed": 9,
     "status": "ok",
     "timestamp": 1667072579530,
     "user": {
      "displayName": "ESRAA ZAHAM ALYOUBI",
      "userId": "10961204535067338449"
     },
     "user_tz": -180
    },
    "id": "8f5bf064",
    "outputId": "df09c729-d3cd-4d93-a34f-06ce69c2c4e8"
   },
   "outputs": [
    {
     "data": {
      "text/plain": [
       "Year               0\n",
       "Type               0\n",
       "Product group      0\n",
       "Producer           0\n",
       "Code               0\n",
       "Volume             0\n",
       "Cost per unit      0\n",
       "Price per unit     0\n",
       "Revenues           0\n",
       "Total Cost         0\n",
       "Profit Percent     0\n",
       "Summary Profits    0\n",
       "dtype: int64"
      ]
     },
     "execution_count": 10,
     "metadata": {},
     "output_type": "execute_result"
    }
   ],
   "source": [
    "df.isna().sum()"
   ]
  },
  {
   "cell_type": "code",
   "execution_count": 11,
   "id": "b88ebe0d",
   "metadata": {
    "colab": {
     "base_uri": "https://localhost:8080/",
     "height": 206
    },
    "executionInfo": {
     "elapsed": 5,
     "status": "ok",
     "timestamp": 1667072580921,
     "user": {
      "displayName": "ESRAA ZAHAM ALYOUBI",
      "userId": "10961204535067338449"
     },
     "user_tz": -180
    },
    "id": "b88ebe0d",
    "outputId": "4e77fe47-43c4-4584-af73-68495a7841df"
   },
   "outputs": [
    {
     "data": {
      "text/html": [
       "<div>\n",
       "<style scoped>\n",
       "    .dataframe tbody tr th:only-of-type {\n",
       "        vertical-align: middle;\n",
       "    }\n",
       "\n",
       "    .dataframe tbody tr th {\n",
       "        vertical-align: top;\n",
       "    }\n",
       "\n",
       "    .dataframe thead th {\n",
       "        text-align: right;\n",
       "    }\n",
       "</style>\n",
       "<table border=\"1\" class=\"dataframe\">\n",
       "  <thead>\n",
       "    <tr style=\"text-align: right;\">\n",
       "      <th></th>\n",
       "      <th>Type</th>\n",
       "      <th>Product group</th>\n",
       "      <th>Producer</th>\n",
       "      <th>Volume</th>\n",
       "      <th>Cost per unit</th>\n",
       "      <th>Price per unit</th>\n",
       "      <th>Revenues</th>\n",
       "      <th>Total Cost</th>\n",
       "      <th>Profit Percent</th>\n",
       "      <th>Summary Profits</th>\n",
       "    </tr>\n",
       "  </thead>\n",
       "  <tbody>\n",
       "    <tr>\n",
       "      <th>0</th>\n",
       "      <td>Convenience stores</td>\n",
       "      <td>Meat</td>\n",
       "      <td>J&amp;F</td>\n",
       "      <td>420</td>\n",
       "      <td>6.00</td>\n",
       "      <td>8.40</td>\n",
       "      <td>$3,542.00</td>\n",
       "      <td>$2,528.40</td>\n",
       "      <td>29</td>\n",
       "      <td>Good Profit</td>\n",
       "    </tr>\n",
       "    <tr>\n",
       "      <th>1</th>\n",
       "      <td>Convenience stores</td>\n",
       "      <td>Meat</td>\n",
       "      <td>J&amp;F</td>\n",
       "      <td>480</td>\n",
       "      <td>6.10</td>\n",
       "      <td>7.40</td>\n",
       "      <td>$3,558.40</td>\n",
       "      <td>$2,947.20</td>\n",
       "      <td>17</td>\n",
       "      <td>Acceptable Profit</td>\n",
       "    </tr>\n",
       "    <tr>\n",
       "      <th>2</th>\n",
       "      <td>Convenience stores</td>\n",
       "      <td>Meat</td>\n",
       "      <td>J&amp;F</td>\n",
       "      <td>528</td>\n",
       "      <td>5.40</td>\n",
       "      <td>7.60</td>\n",
       "      <td>$4,019.84</td>\n",
       "      <td>$2,837.12</td>\n",
       "      <td>29</td>\n",
       "      <td>Good Profit</td>\n",
       "    </tr>\n",
       "    <tr>\n",
       "      <th>3</th>\n",
       "      <td>Convenience stores</td>\n",
       "      <td>Coffee</td>\n",
       "      <td>J&amp;F</td>\n",
       "      <td>4836</td>\n",
       "      <td>0.74</td>\n",
       "      <td>0.96</td>\n",
       "      <td>$4,642.56</td>\n",
       "      <td>$3,578.64</td>\n",
       "      <td>23</td>\n",
       "      <td>Good Profit</td>\n",
       "    </tr>\n",
       "    <tr>\n",
       "      <th>4</th>\n",
       "      <td>Convenience stores</td>\n",
       "      <td>Coffee</td>\n",
       "      <td>J&amp;F</td>\n",
       "      <td>5928</td>\n",
       "      <td>0.95</td>\n",
       "      <td>0.99</td>\n",
       "      <td>$5,868.72</td>\n",
       "      <td>$5,631.60</td>\n",
       "      <td>4</td>\n",
       "      <td>Acceptable Profit</td>\n",
       "    </tr>\n",
       "  </tbody>\n",
       "</table>\n",
       "</div>"
      ],
      "text/plain": [
       "                 Type Product group Producer  Volume  Cost per unit  \\\n",
       "0  Convenience stores          Meat      J&F     420           6.00   \n",
       "1  Convenience stores          Meat      J&F     480           6.10   \n",
       "2  Convenience stores          Meat      J&F     528           5.40   \n",
       "3  Convenience stores        Coffee      J&F    4836           0.74   \n",
       "4  Convenience stores        Coffee      J&F    5928           0.95   \n",
       "\n",
       "   Price per unit   Revenues Total Cost  Profit Percent    Summary Profits  \n",
       "0            8.40  $3,542.00  $2,528.40              29        Good Profit  \n",
       "1            7.40  $3,558.40  $2,947.20              17  Acceptable Profit  \n",
       "2            7.60  $4,019.84  $2,837.12              29        Good Profit  \n",
       "3            0.96  $4,642.56  $3,578.64              23        Good Profit  \n",
       "4            0.99  $5,868.72  $5,631.60               4  Acceptable Profit  "
      ]
     },
     "execution_count": 11,
     "metadata": {},
     "output_type": "execute_result"
    }
   ],
   "source": [
    "df=df.drop(['Year','Code'],axis=1)\n",
    "df.head()"
   ]
  },
  {
   "cell_type": "code",
   "execution_count": 12,
   "id": "1df73c69",
   "metadata": {
    "colab": {
     "base_uri": "https://localhost:8080/"
    },
    "executionInfo": {
     "elapsed": 5,
     "status": "ok",
     "timestamp": 1667072580922,
     "user": {
      "displayName": "ESRAA ZAHAM ALYOUBI",
      "userId": "10961204535067338449"
     },
     "user_tz": -180
    },
    "id": "1df73c69",
    "outputId": "1227a35e-31bd-4b01-c107-1c82931d9091"
   },
   "outputs": [
    {
     "name": "stderr",
     "output_type": "stream",
     "text": [
      "<ipython-input-12-c899c766a8e9>:1: FutureWarning: The default value of regex will change from True to False in a future version. In addition, single character regular expressions will*not* be treated as literal strings when regex=True.\n",
      "  df['Total Cost'] = df['Total Cost'].str.replace('$','')\n"
     ]
    }
   ],
   "source": [
    "df['Total Cost'] = df['Total Cost'].str.replace('$','')\n",
    "df['Total Cost'] = df['Total Cost'].str.replace(',','')\n",
    "df['Total Cost'] = df['Total Cost'].astype(float)"
   ]
  },
  {
   "cell_type": "code",
   "execution_count": 13,
   "id": "2579ecb1",
   "metadata": {
    "colab": {
     "base_uri": "https://localhost:8080/"
    },
    "executionInfo": {
     "elapsed": 10,
     "status": "ok",
     "timestamp": 1667072581635,
     "user": {
      "displayName": "ESRAA ZAHAM ALYOUBI",
      "userId": "10961204535067338449"
     },
     "user_tz": -180
    },
    "id": "2579ecb1",
    "outputId": "f85df5b8-90b6-447e-9fb1-9a61aef73c2d"
   },
   "outputs": [
    {
     "name": "stdout",
     "output_type": "stream",
     "text": [
      "<class 'pandas.core.frame.DataFrame'>\n",
      "RangeIndex: 15117 entries, 0 to 15116\n",
      "Data columns (total 10 columns):\n",
      " #   Column           Non-Null Count  Dtype  \n",
      "---  ------           --------------  -----  \n",
      " 0   Type             15117 non-null  object \n",
      " 1   Product group    15117 non-null  object \n",
      " 2   Producer         15117 non-null  object \n",
      " 3   Volume           15117 non-null  int64  \n",
      " 4   Cost per unit    15117 non-null  float64\n",
      " 5   Price per unit   15117 non-null  float64\n",
      " 6   Revenues         15117 non-null  object \n",
      " 7   Total Cost       15117 non-null  float64\n",
      " 8   Profit Percent   15117 non-null  int64  \n",
      " 9   Summary Profits  15117 non-null  object \n",
      "dtypes: float64(3), int64(2), object(5)\n",
      "memory usage: 1.2+ MB\n"
     ]
    }
   ],
   "source": [
    "df.info()"
   ]
  },
  {
   "cell_type": "code",
   "execution_count": 14,
   "id": "971cda58",
   "metadata": {
    "colab": {
     "base_uri": "https://localhost:8080/",
     "height": 206
    },
    "executionInfo": {
     "elapsed": 10,
     "status": "ok",
     "timestamp": 1667072581636,
     "user": {
      "displayName": "ESRAA ZAHAM ALYOUBI",
      "userId": "10961204535067338449"
     },
     "user_tz": -180
    },
    "id": "971cda58",
    "outputId": "85320d76-8be5-4619-a62b-049638cc7b71"
   },
   "outputs": [
    {
     "data": {
      "text/html": [
       "<div>\n",
       "<style scoped>\n",
       "    .dataframe tbody tr th:only-of-type {\n",
       "        vertical-align: middle;\n",
       "    }\n",
       "\n",
       "    .dataframe tbody tr th {\n",
       "        vertical-align: top;\n",
       "    }\n",
       "\n",
       "    .dataframe thead th {\n",
       "        text-align: right;\n",
       "    }\n",
       "</style>\n",
       "<table border=\"1\" class=\"dataframe\">\n",
       "  <thead>\n",
       "    <tr style=\"text-align: right;\">\n",
       "      <th></th>\n",
       "      <th>Type</th>\n",
       "      <th>Product group</th>\n",
       "      <th>Producer</th>\n",
       "      <th>Volume</th>\n",
       "      <th>Cost per unit</th>\n",
       "      <th>Price per unit</th>\n",
       "      <th>Revenues</th>\n",
       "      <th>Total Cost</th>\n",
       "      <th>Profit Percent</th>\n",
       "      <th>Summary Profits</th>\n",
       "    </tr>\n",
       "  </thead>\n",
       "  <tbody>\n",
       "    <tr>\n",
       "      <th>0</th>\n",
       "      <td>Convenience stores</td>\n",
       "      <td>Meat</td>\n",
       "      <td>J&amp;F</td>\n",
       "      <td>420</td>\n",
       "      <td>6.00</td>\n",
       "      <td>8.40</td>\n",
       "      <td>$3,542.00</td>\n",
       "      <td>2528.40</td>\n",
       "      <td>29</td>\n",
       "      <td>Good Profit</td>\n",
       "    </tr>\n",
       "    <tr>\n",
       "      <th>1</th>\n",
       "      <td>Convenience stores</td>\n",
       "      <td>Meat</td>\n",
       "      <td>J&amp;F</td>\n",
       "      <td>480</td>\n",
       "      <td>6.10</td>\n",
       "      <td>7.40</td>\n",
       "      <td>$3,558.40</td>\n",
       "      <td>2947.20</td>\n",
       "      <td>17</td>\n",
       "      <td>Acceptable Profit</td>\n",
       "    </tr>\n",
       "    <tr>\n",
       "      <th>2</th>\n",
       "      <td>Convenience stores</td>\n",
       "      <td>Meat</td>\n",
       "      <td>J&amp;F</td>\n",
       "      <td>528</td>\n",
       "      <td>5.40</td>\n",
       "      <td>7.60</td>\n",
       "      <td>$4,019.84</td>\n",
       "      <td>2837.12</td>\n",
       "      <td>29</td>\n",
       "      <td>Good Profit</td>\n",
       "    </tr>\n",
       "    <tr>\n",
       "      <th>3</th>\n",
       "      <td>Convenience stores</td>\n",
       "      <td>Coffee</td>\n",
       "      <td>J&amp;F</td>\n",
       "      <td>4836</td>\n",
       "      <td>0.74</td>\n",
       "      <td>0.96</td>\n",
       "      <td>$4,642.56</td>\n",
       "      <td>3578.64</td>\n",
       "      <td>23</td>\n",
       "      <td>Good Profit</td>\n",
       "    </tr>\n",
       "    <tr>\n",
       "      <th>4</th>\n",
       "      <td>Convenience stores</td>\n",
       "      <td>Coffee</td>\n",
       "      <td>J&amp;F</td>\n",
       "      <td>5928</td>\n",
       "      <td>0.95</td>\n",
       "      <td>0.99</td>\n",
       "      <td>$5,868.72</td>\n",
       "      <td>5631.60</td>\n",
       "      <td>4</td>\n",
       "      <td>Acceptable Profit</td>\n",
       "    </tr>\n",
       "  </tbody>\n",
       "</table>\n",
       "</div>"
      ],
      "text/plain": [
       "                 Type Product group Producer  Volume  Cost per unit  \\\n",
       "0  Convenience stores          Meat      J&F     420           6.00   \n",
       "1  Convenience stores          Meat      J&F     480           6.10   \n",
       "2  Convenience stores          Meat      J&F     528           5.40   \n",
       "3  Convenience stores        Coffee      J&F    4836           0.74   \n",
       "4  Convenience stores        Coffee      J&F    5928           0.95   \n",
       "\n",
       "   Price per unit   Revenues  Total Cost  Profit Percent    Summary Profits  \n",
       "0            8.40  $3,542.00     2528.40              29        Good Profit  \n",
       "1            7.40  $3,558.40     2947.20              17  Acceptable Profit  \n",
       "2            7.60  $4,019.84     2837.12              29        Good Profit  \n",
       "3            0.96  $4,642.56     3578.64              23        Good Profit  \n",
       "4            0.99  $5,868.72     5631.60               4  Acceptable Profit  "
      ]
     },
     "execution_count": 14,
     "metadata": {},
     "output_type": "execute_result"
    }
   ],
   "source": [
    "df.head()"
   ]
  },
  {
   "cell_type": "code",
   "execution_count": 15,
   "id": "03f6865c",
   "metadata": {
    "colab": {
     "base_uri": "https://localhost:8080/"
    },
    "executionInfo": {
     "elapsed": 10,
     "status": "ok",
     "timestamp": 1667072581636,
     "user": {
      "displayName": "ESRAA ZAHAM ALYOUBI",
      "userId": "10961204535067338449"
     },
     "user_tz": -180
    },
    "id": "03f6865c",
    "outputId": "b372fac2-753a-4959-9dc4-8e38aac8d9b1"
   },
   "outputs": [
    {
     "name": "stderr",
     "output_type": "stream",
     "text": [
      "<ipython-input-15-bedb2358a6d1>:1: FutureWarning: The default value of regex will change from True to False in a future version. In addition, single character regular expressions will*not* be treated as literal strings when regex=True.\n",
      "  df['Revenues'] = df['Revenues'].str.replace('$','')\n"
     ]
    }
   ],
   "source": [
    "df['Revenues'] = df['Revenues'].str.replace('$','')\n",
    "df['Revenues'] = df['Revenues'].str.replace(',','')\n",
    "df['Revenues'] = df['Revenues'].astype(float)"
   ]
  },
  {
   "cell_type": "code",
   "execution_count": 16,
   "id": "0ae84100",
   "metadata": {
    "colab": {
     "base_uri": "https://localhost:8080/",
     "height": 206
    },
    "executionInfo": {
     "elapsed": 6,
     "status": "ok",
     "timestamp": 1667072582780,
     "user": {
      "displayName": "ESRAA ZAHAM ALYOUBI",
      "userId": "10961204535067338449"
     },
     "user_tz": -180
    },
    "id": "0ae84100",
    "outputId": "d9a4b3d9-5573-4895-b166-92d065115ab1"
   },
   "outputs": [
    {
     "data": {
      "text/html": [
       "<div>\n",
       "<style scoped>\n",
       "    .dataframe tbody tr th:only-of-type {\n",
       "        vertical-align: middle;\n",
       "    }\n",
       "\n",
       "    .dataframe tbody tr th {\n",
       "        vertical-align: top;\n",
       "    }\n",
       "\n",
       "    .dataframe thead th {\n",
       "        text-align: right;\n",
       "    }\n",
       "</style>\n",
       "<table border=\"1\" class=\"dataframe\">\n",
       "  <thead>\n",
       "    <tr style=\"text-align: right;\">\n",
       "      <th></th>\n",
       "      <th>Type</th>\n",
       "      <th>Product group</th>\n",
       "      <th>Producer</th>\n",
       "      <th>Volume</th>\n",
       "      <th>Cost per unit</th>\n",
       "      <th>Price per unit</th>\n",
       "      <th>Revenues</th>\n",
       "      <th>Total Cost</th>\n",
       "      <th>Profit Percent</th>\n",
       "      <th>Summary Profits</th>\n",
       "    </tr>\n",
       "  </thead>\n",
       "  <tbody>\n",
       "    <tr>\n",
       "      <th>0</th>\n",
       "      <td>Convenience stores</td>\n",
       "      <td>Meat</td>\n",
       "      <td>J&amp;F</td>\n",
       "      <td>420</td>\n",
       "      <td>6.00</td>\n",
       "      <td>8.40</td>\n",
       "      <td>3542.00</td>\n",
       "      <td>2528.40</td>\n",
       "      <td>29</td>\n",
       "      <td>Good Profit</td>\n",
       "    </tr>\n",
       "    <tr>\n",
       "      <th>1</th>\n",
       "      <td>Convenience stores</td>\n",
       "      <td>Meat</td>\n",
       "      <td>J&amp;F</td>\n",
       "      <td>480</td>\n",
       "      <td>6.10</td>\n",
       "      <td>7.40</td>\n",
       "      <td>3558.40</td>\n",
       "      <td>2947.20</td>\n",
       "      <td>17</td>\n",
       "      <td>Acceptable Profit</td>\n",
       "    </tr>\n",
       "    <tr>\n",
       "      <th>2</th>\n",
       "      <td>Convenience stores</td>\n",
       "      <td>Meat</td>\n",
       "      <td>J&amp;F</td>\n",
       "      <td>528</td>\n",
       "      <td>5.40</td>\n",
       "      <td>7.60</td>\n",
       "      <td>4019.84</td>\n",
       "      <td>2837.12</td>\n",
       "      <td>29</td>\n",
       "      <td>Good Profit</td>\n",
       "    </tr>\n",
       "    <tr>\n",
       "      <th>3</th>\n",
       "      <td>Convenience stores</td>\n",
       "      <td>Coffee</td>\n",
       "      <td>J&amp;F</td>\n",
       "      <td>4836</td>\n",
       "      <td>0.74</td>\n",
       "      <td>0.96</td>\n",
       "      <td>4642.56</td>\n",
       "      <td>3578.64</td>\n",
       "      <td>23</td>\n",
       "      <td>Good Profit</td>\n",
       "    </tr>\n",
       "    <tr>\n",
       "      <th>4</th>\n",
       "      <td>Convenience stores</td>\n",
       "      <td>Coffee</td>\n",
       "      <td>J&amp;F</td>\n",
       "      <td>5928</td>\n",
       "      <td>0.95</td>\n",
       "      <td>0.99</td>\n",
       "      <td>5868.72</td>\n",
       "      <td>5631.60</td>\n",
       "      <td>4</td>\n",
       "      <td>Acceptable Profit</td>\n",
       "    </tr>\n",
       "  </tbody>\n",
       "</table>\n",
       "</div>"
      ],
      "text/plain": [
       "                 Type Product group Producer  Volume  Cost per unit  \\\n",
       "0  Convenience stores          Meat      J&F     420           6.00   \n",
       "1  Convenience stores          Meat      J&F     480           6.10   \n",
       "2  Convenience stores          Meat      J&F     528           5.40   \n",
       "3  Convenience stores        Coffee      J&F    4836           0.74   \n",
       "4  Convenience stores        Coffee      J&F    5928           0.95   \n",
       "\n",
       "   Price per unit  Revenues  Total Cost  Profit Percent    Summary Profits  \n",
       "0            8.40   3542.00     2528.40              29        Good Profit  \n",
       "1            7.40   3558.40     2947.20              17  Acceptable Profit  \n",
       "2            7.60   4019.84     2837.12              29        Good Profit  \n",
       "3            0.96   4642.56     3578.64              23        Good Profit  \n",
       "4            0.99   5868.72     5631.60               4  Acceptable Profit  "
      ]
     },
     "execution_count": 16,
     "metadata": {},
     "output_type": "execute_result"
    }
   ],
   "source": [
    "df.head()"
   ]
  },
  {
   "cell_type": "code",
   "execution_count": 17,
   "id": "9079461a",
   "metadata": {
    "executionInfo": {
     "elapsed": 2,
     "status": "ok",
     "timestamp": 1667072586266,
     "user": {
      "displayName": "ESRAA ZAHAM ALYOUBI",
      "userId": "10961204535067338449"
     },
     "user_tz": -180
    },
    "id": "9079461a"
   },
   "outputs": [],
   "source": [
    "# Splitting data\n",
    "\n",
    "# Split into training and test sets\n",
    "training, test = train_test_split(\n",
    "    df, \n",
    "    train_size=0.8, # 80% of data to train\n",
    "    test_size=0.2, # 20% of data to test\n",
    "    random_state=42 # so that regardless of how many times I run the code I will have the \"exact\" points\n",
    ")"
   ]
  },
  {
   "cell_type": "code",
   "execution_count": 18,
   "id": "86e3e9d3",
   "metadata": {
    "executionInfo": {
     "elapsed": 3,
     "status": "ok",
     "timestamp": 1667072586901,
     "user": {
      "displayName": "ESRAA ZAHAM ALYOUBI",
      "userId": "10961204535067338449"
     },
     "user_tz": -180
    },
    "id": "86e3e9d3"
   },
   "outputs": [],
   "source": [
    "# Create our One Hot Encoder object\n",
    "one_hot = OneHotEncoder()\n",
    "\n",
    "col_names = [\"Type\", \"Product group\",\"Producer\"]\n",
    "\n",
    "# One Hot encode the column in both the train and validation sets\n",
    "one_hot_df = one_hot.fit_transform(training[col_names]).toarray()\n",
    "\n",
    "one_hot_df_val = one_hot.transform(test[col_names]).toarray()"
   ]
  },
  {
   "cell_type": "code",
   "execution_count": 19,
   "id": "dfd5fca4",
   "metadata": {
    "colab": {
     "base_uri": "https://localhost:8080/"
    },
    "executionInfo": {
     "elapsed": 525,
     "status": "ok",
     "timestamp": 1667072622623,
     "user": {
      "displayName": "ESRAA ZAHAM ALYOUBI",
      "userId": "10961204535067338449"
     },
     "user_tz": -180
    },
    "id": "dfd5fca4",
    "outputId": "1382f0b1-a487-49bf-e877-02aa5ef00b14"
   },
   "outputs": [
    {
     "data": {
      "text/plain": [
       "[array(['Convenience stores', 'Hypermarkets', 'Supermarkets'], dtype=object),\n",
       " array(['Alcohol', 'Beverages', 'Bread products', 'Cheese products',\n",
       "        'Coffee', 'Corn flakes', 'Cosmetics', 'Delicatessen',\n",
       "        'Fresh salads', 'Homecare products', 'Ice cream', 'Meat', 'Sauces',\n",
       "        'Sweets', 'Vegetables'], dtype=object),\n",
       " array(['Aqua', 'Atkins', 'Barilla', 'Bavarian specialties', 'Bayer',\n",
       "        'Beiersdorf', \"Bella's\", 'Bonduelle', 'Brembo', 'Buonissimi',\n",
       "        'C&C vegetables', 'Caffe Italiano', 'Campari', 'Capy',\n",
       "        'Cherry dreams', 'Chocopops', 'Chocowaff', 'Cibo italiano', 'Cif',\n",
       "        'Cioccolatti Italiani', 'Cirio', 'Corny', 'Corosina',\n",
       "        'Creamy treat', 'Danone', 'De Cecco', 'Delta', 'Dole', 'Doleo',\n",
       "        'Dr Pepper', 'Earthbound', 'Famous Grousse', 'Fast&Easy',\n",
       "        'Ferrero', 'Fresh express', 'Freshco', 'Garofalo',\n",
       "        'Gelati e altro', 'Gelati italiani', 'Gelati veri', 'Genco',\n",
       "        'Grana Padano', 'Green Farm', 'Green lamb', 'Green stars',\n",
       "        'Greener salads', 'Grekomila', 'Grom', 'H&I', 'Haribo', 'Hassett',\n",
       "        'Heineken', 'Heinz', 'Ice Allstars', 'Illy', 'J&F', 'J&F Bread',\n",
       "        'J&J', 'Jacobs', 'KBG', 'Kimberley Clark', 'Kimbo', 'Kraus',\n",
       "        'Kronos', \"L'Oreal\", \"L'angolo vicino\", 'Lactalis', 'Lavazza',\n",
       "        'Lindt', 'M&M', 'MM', 'Malizia', 'Mars', 'Maxi Fresh',\n",
       "        'Maybelline', 'Milky', 'Mindi', 'Momo figli', 'Mondelez',\n",
       "        'Monzuro', \"Nestle'\", 'North Cascade', 'Olympus', 'Optima',\n",
       "        'Ortalli', 'Own label', 'P&G', 'Palmera', 'Parmareggio',\n",
       "        \"Pausa Caffe'\", 'Pepsi', 'Pit bull', 'Plain Vanilla', 'President',\n",
       "        'Rana', 'Real ice', 'Real quality', 'Red Bull', 'Rivareno',\n",
       "        'Sadand', 'Salvadori', 'San Benedetto', 'San Pellegrino',\n",
       "        'Sapori di Siena', 'Sephora', 'Serwis', 'Southeastern windmill',\n",
       "        'Spani', 'Spicers', 'St.Dalfour', 'Star foods', 'Suchard',\n",
       "        'Surgital', 'TIP', 'Taylor farms', 'The food world', 'Tuborg',\n",
       "        'Turgsbro', 'Ulker', 'Unilever', 'Valtaro', 'Veet', 'WC Net',\n",
       "        'Wild West'], dtype=object)]"
      ]
     },
     "execution_count": 19,
     "metadata": {},
     "output_type": "execute_result"
    }
   ],
   "source": [
    "# Look at the categories\n",
    "one_hot.categories_"
   ]
  },
  {
   "cell_type": "code",
   "execution_count": 20,
   "id": "72f20548",
   "metadata": {
    "colab": {
     "base_uri": "https://localhost:8080/"
    },
    "executionInfo": {
     "elapsed": 3,
     "status": "ok",
     "timestamp": 1667072623156,
     "user": {
      "displayName": "ESRAA ZAHAM ALYOUBI",
      "userId": "10961204535067338449"
     },
     "user_tz": -180
    },
    "id": "72f20548",
    "outputId": "a7e16df7-92a7-4b33-8f5d-531d96c71a47"
   },
   "outputs": [
    {
     "data": {
      "text/plain": [
       "['Type_Convenience stores',\n",
       " 'Type_Hypermarkets',\n",
       " 'Type_Supermarkets',\n",
       " 'Product group_Alcohol',\n",
       " 'Product group_Beverages',\n",
       " 'Product group_Bread products',\n",
       " 'Product group_Cheese products',\n",
       " 'Product group_Coffee',\n",
       " 'Product group_Corn flakes',\n",
       " 'Product group_Cosmetics',\n",
       " 'Product group_Delicatessen',\n",
       " 'Product group_Fresh salads',\n",
       " 'Product group_Homecare products',\n",
       " 'Product group_Ice cream',\n",
       " 'Product group_Meat',\n",
       " 'Product group_Sauces',\n",
       " 'Product group_Sweets',\n",
       " 'Product group_Vegetables',\n",
       " 'Producer_Aqua',\n",
       " 'Producer_Atkins',\n",
       " 'Producer_Barilla',\n",
       " 'Producer_Bavarian specialties',\n",
       " 'Producer_Bayer',\n",
       " 'Producer_Beiersdorf',\n",
       " \"Producer_Bella's\",\n",
       " 'Producer_Bonduelle',\n",
       " 'Producer_Brembo',\n",
       " 'Producer_Buonissimi',\n",
       " 'Producer_C&C vegetables',\n",
       " 'Producer_Caffe Italiano',\n",
       " 'Producer_Campari',\n",
       " 'Producer_Capy',\n",
       " 'Producer_Cherry dreams',\n",
       " 'Producer_Chocopops',\n",
       " 'Producer_Chocowaff',\n",
       " 'Producer_Cibo italiano',\n",
       " 'Producer_Cif',\n",
       " 'Producer_Cioccolatti Italiani',\n",
       " 'Producer_Cirio',\n",
       " 'Producer_Corny',\n",
       " 'Producer_Corosina',\n",
       " 'Producer_Creamy treat',\n",
       " 'Producer_Danone',\n",
       " 'Producer_De Cecco',\n",
       " 'Producer_Delta',\n",
       " 'Producer_Dole',\n",
       " 'Producer_Doleo',\n",
       " 'Producer_Dr Pepper',\n",
       " 'Producer_Earthbound',\n",
       " 'Producer_Famous Grousse',\n",
       " 'Producer_Fast&Easy',\n",
       " 'Producer_Ferrero',\n",
       " 'Producer_Fresh express',\n",
       " 'Producer_Freshco',\n",
       " 'Producer_Garofalo',\n",
       " 'Producer_Gelati e altro',\n",
       " 'Producer_Gelati italiani',\n",
       " 'Producer_Gelati veri',\n",
       " 'Producer_Genco',\n",
       " 'Producer_Grana Padano',\n",
       " 'Producer_Green Farm',\n",
       " 'Producer_Green lamb',\n",
       " 'Producer_Green stars',\n",
       " 'Producer_Greener salads',\n",
       " 'Producer_Grekomila',\n",
       " 'Producer_Grom',\n",
       " 'Producer_H&I',\n",
       " 'Producer_Haribo',\n",
       " 'Producer_Hassett',\n",
       " 'Producer_Heineken',\n",
       " 'Producer_Heinz',\n",
       " 'Producer_Ice Allstars',\n",
       " 'Producer_Illy',\n",
       " 'Producer_J&F',\n",
       " 'Producer_J&F Bread',\n",
       " 'Producer_J&J',\n",
       " 'Producer_Jacobs',\n",
       " 'Producer_KBG',\n",
       " 'Producer_Kimberley Clark',\n",
       " 'Producer_Kimbo',\n",
       " 'Producer_Kraus',\n",
       " 'Producer_Kronos',\n",
       " \"Producer_L'Oreal\",\n",
       " \"Producer_L'angolo vicino\",\n",
       " 'Producer_Lactalis',\n",
       " 'Producer_Lavazza',\n",
       " 'Producer_Lindt',\n",
       " 'Producer_M&M',\n",
       " 'Producer_MM',\n",
       " 'Producer_Malizia',\n",
       " 'Producer_Mars',\n",
       " 'Producer_Maxi Fresh',\n",
       " 'Producer_Maybelline',\n",
       " 'Producer_Milky',\n",
       " 'Producer_Mindi',\n",
       " 'Producer_Momo figli',\n",
       " 'Producer_Mondelez',\n",
       " 'Producer_Monzuro',\n",
       " \"Producer_Nestle'\",\n",
       " 'Producer_North Cascade',\n",
       " 'Producer_Olympus',\n",
       " 'Producer_Optima',\n",
       " 'Producer_Ortalli',\n",
       " 'Producer_Own label',\n",
       " 'Producer_P&G',\n",
       " 'Producer_Palmera',\n",
       " 'Producer_Parmareggio',\n",
       " \"Producer_Pausa Caffe'\",\n",
       " 'Producer_Pepsi',\n",
       " 'Producer_Pit bull',\n",
       " 'Producer_Plain Vanilla',\n",
       " 'Producer_President',\n",
       " 'Producer_Rana',\n",
       " 'Producer_Real ice',\n",
       " 'Producer_Real quality',\n",
       " 'Producer_Red Bull',\n",
       " 'Producer_Rivareno',\n",
       " 'Producer_Sadand',\n",
       " 'Producer_Salvadori',\n",
       " 'Producer_San Benedetto',\n",
       " 'Producer_San Pellegrino',\n",
       " 'Producer_Sapori di Siena',\n",
       " 'Producer_Sephora',\n",
       " 'Producer_Serwis',\n",
       " 'Producer_Southeastern windmill',\n",
       " 'Producer_Spani',\n",
       " 'Producer_Spicers',\n",
       " 'Producer_St.Dalfour',\n",
       " 'Producer_Star foods',\n",
       " 'Producer_Suchard',\n",
       " 'Producer_Surgital',\n",
       " 'Producer_TIP',\n",
       " 'Producer_Taylor farms',\n",
       " 'Producer_The food world',\n",
       " 'Producer_Tuborg',\n",
       " 'Producer_Turgsbro',\n",
       " 'Producer_Ulker',\n",
       " 'Producer_Unilever',\n",
       " 'Producer_Valtaro',\n",
       " 'Producer_Veet',\n",
       " 'Producer_WC Net',\n",
       " 'Producer_Wild West']"
      ]
     },
     "execution_count": 20,
     "metadata": {},
     "output_type": "execute_result"
    }
   ],
   "source": [
    "# Create column names list for one hot encoded features\n",
    "column_names = []\n",
    "\n",
    "for y in range(len(one_hot.categories_)):\n",
    "    for z in range(len(one_hot.categories_[y])):\n",
    "        # print(one_hot.categories_[y][z])\n",
    "        column_names.append(col_names[y]+\"_\"+one_hot.categories_[y][z])\n",
    "\n",
    "\n",
    "column_names"
   ]
  },
  {
   "cell_type": "code",
   "execution_count": 21,
   "id": "f85d1d2f",
   "metadata": {
    "colab": {
     "base_uri": "https://localhost:8080/"
    },
    "executionInfo": {
     "elapsed": 5,
     "status": "ok",
     "timestamp": 1667072624832,
     "user": {
      "displayName": "ESRAA ZAHAM ALYOUBI",
      "userId": "10961204535067338449"
     },
     "user_tz": -180
    },
    "id": "f85d1d2f",
    "outputId": "c3a7853d-62aa-4dbc-a23e-eb6b0ac1129e"
   },
   "outputs": [
    {
     "name": "stdout",
     "output_type": "stream",
     "text": [
      "(12093, 142)\n",
      "(3024, 142)\n"
     ]
    }
   ],
   "source": [
    "oh_df = pd.DataFrame(\n",
    "    one_hot_df,\n",
    "    index=training.index,\n",
    "    columns = column_names\n",
    ")\n",
    "\n",
    "oh_df_val = pd.DataFrame(\n",
    "    one_hot_df_val,\n",
    "    index=test.index,\n",
    "    columns = column_names\n",
    ")\n",
    "\n",
    "print(oh_df.shape)\n",
    "print(oh_df_val.shape)"
   ]
  },
  {
   "cell_type": "code",
   "execution_count": 22,
   "id": "815e2b60",
   "metadata": {
    "colab": {
     "base_uri": "https://localhost:8080/"
    },
    "executionInfo": {
     "elapsed": 5,
     "status": "ok",
     "timestamp": 1667072626269,
     "user": {
      "displayName": "ESRAA ZAHAM ALYOUBI",
      "userId": "10961204535067338449"
     },
     "user_tz": -180
    },
    "id": "815e2b60",
    "outputId": "4ef6ca1d-bafc-4196-dc01-2025ccee6341"
   },
   "outputs": [
    {
     "name": "stdout",
     "output_type": "stream",
     "text": [
      "(12093, 149)\n",
      "(3024, 149)\n"
     ]
    }
   ],
   "source": [
    "# Create train_new df by merging train and one hot encoded df together and drop color and clarity cols\n",
    "\n",
    "training = training.merge(oh_df, on=training.index).set_index(\"key_0\").drop([\"Type\", \"Product group\",\"Producer\"], axis=1)\n",
    "test = test.merge(oh_df_val, on=test.index).set_index(\"key_0\").drop([\"Type\", \"Product group\",\"Producer\"], axis=1)\n",
    "\n",
    "print(training.shape)\n",
    "print(test.shape)"
   ]
  },
  {
   "cell_type": "code",
   "execution_count": 23,
   "id": "06aa601e",
   "metadata": {
    "colab": {
     "base_uri": "https://localhost:8080/",
     "height": 452
    },
    "executionInfo": {
     "elapsed": 4,
     "status": "ok",
     "timestamp": 1667072626269,
     "user": {
      "displayName": "ESRAA ZAHAM ALYOUBI",
      "userId": "10961204535067338449"
     },
     "user_tz": -180
    },
    "id": "06aa601e",
    "outputId": "5a50c327-bdc7-4c70-95f6-c6d2fc083c1a"
   },
   "outputs": [
    {
     "data": {
      "text/html": [
       "<div>\n",
       "<style scoped>\n",
       "    .dataframe tbody tr th:only-of-type {\n",
       "        vertical-align: middle;\n",
       "    }\n",
       "\n",
       "    .dataframe tbody tr th {\n",
       "        vertical-align: top;\n",
       "    }\n",
       "\n",
       "    .dataframe thead th {\n",
       "        text-align: right;\n",
       "    }\n",
       "</style>\n",
       "<table border=\"1\" class=\"dataframe\">\n",
       "  <thead>\n",
       "    <tr style=\"text-align: right;\">\n",
       "      <th></th>\n",
       "      <th>Volume</th>\n",
       "      <th>Cost per unit</th>\n",
       "      <th>Price per unit</th>\n",
       "      <th>Revenues</th>\n",
       "      <th>Total Cost</th>\n",
       "      <th>Profit Percent</th>\n",
       "      <th>Summary Profits</th>\n",
       "      <th>Type_Convenience stores</th>\n",
       "      <th>Type_Hypermarkets</th>\n",
       "      <th>Type_Supermarkets</th>\n",
       "      <th>...</th>\n",
       "      <th>Producer_Taylor farms</th>\n",
       "      <th>Producer_The food world</th>\n",
       "      <th>Producer_Tuborg</th>\n",
       "      <th>Producer_Turgsbro</th>\n",
       "      <th>Producer_Ulker</th>\n",
       "      <th>Producer_Unilever</th>\n",
       "      <th>Producer_Valtaro</th>\n",
       "      <th>Producer_Veet</th>\n",
       "      <th>Producer_WC Net</th>\n",
       "      <th>Producer_Wild West</th>\n",
       "    </tr>\n",
       "    <tr>\n",
       "      <th>key_0</th>\n",
       "      <th></th>\n",
       "      <th></th>\n",
       "      <th></th>\n",
       "      <th></th>\n",
       "      <th></th>\n",
       "      <th></th>\n",
       "      <th></th>\n",
       "      <th></th>\n",
       "      <th></th>\n",
       "      <th></th>\n",
       "      <th></th>\n",
       "      <th></th>\n",
       "      <th></th>\n",
       "      <th></th>\n",
       "      <th></th>\n",
       "      <th></th>\n",
       "      <th></th>\n",
       "      <th></th>\n",
       "      <th></th>\n",
       "      <th></th>\n",
       "      <th></th>\n",
       "    </tr>\n",
       "  </thead>\n",
       "  <tbody>\n",
       "    <tr>\n",
       "      <th>4679</th>\n",
       "      <td>120</td>\n",
       "      <td>1.07</td>\n",
       "      <td>1.39</td>\n",
       "      <td>166.80</td>\n",
       "      <td>128.40</td>\n",
       "      <td>23</td>\n",
       "      <td>Good Profit</td>\n",
       "      <td>1.0</td>\n",
       "      <td>0.0</td>\n",
       "      <td>0.0</td>\n",
       "      <td>...</td>\n",
       "      <td>0.0</td>\n",
       "      <td>0.0</td>\n",
       "      <td>0.0</td>\n",
       "      <td>0.0</td>\n",
       "      <td>0.0</td>\n",
       "      <td>0.0</td>\n",
       "      <td>0.0</td>\n",
       "      <td>0.0</td>\n",
       "      <td>0.0</td>\n",
       "      <td>0.0</td>\n",
       "    </tr>\n",
       "    <tr>\n",
       "      <th>6634</th>\n",
       "      <td>816</td>\n",
       "      <td>2.25</td>\n",
       "      <td>3.43</td>\n",
       "      <td>2798.88</td>\n",
       "      <td>1836.00</td>\n",
       "      <td>34</td>\n",
       "      <td>Good Profit</td>\n",
       "      <td>1.0</td>\n",
       "      <td>0.0</td>\n",
       "      <td>0.0</td>\n",
       "      <td>...</td>\n",
       "      <td>0.0</td>\n",
       "      <td>0.0</td>\n",
       "      <td>0.0</td>\n",
       "      <td>0.0</td>\n",
       "      <td>0.0</td>\n",
       "      <td>0.0</td>\n",
       "      <td>0.0</td>\n",
       "      <td>0.0</td>\n",
       "      <td>0.0</td>\n",
       "      <td>0.0</td>\n",
       "    </tr>\n",
       "    <tr>\n",
       "      <th>9775</th>\n",
       "      <td>2040</td>\n",
       "      <td>2.76</td>\n",
       "      <td>3.44</td>\n",
       "      <td>7017.60</td>\n",
       "      <td>5630.40</td>\n",
       "      <td>20</td>\n",
       "      <td>Acceptable Profit</td>\n",
       "      <td>1.0</td>\n",
       "      <td>0.0</td>\n",
       "      <td>0.0</td>\n",
       "      <td>...</td>\n",
       "      <td>0.0</td>\n",
       "      <td>0.0</td>\n",
       "      <td>0.0</td>\n",
       "      <td>0.0</td>\n",
       "      <td>0.0</td>\n",
       "      <td>0.0</td>\n",
       "      <td>0.0</td>\n",
       "      <td>0.0</td>\n",
       "      <td>0.0</td>\n",
       "      <td>0.0</td>\n",
       "    </tr>\n",
       "    <tr>\n",
       "      <th>15050</th>\n",
       "      <td>588</td>\n",
       "      <td>1.87</td>\n",
       "      <td>2.40</td>\n",
       "      <td>1411.20</td>\n",
       "      <td>1099.56</td>\n",
       "      <td>22</td>\n",
       "      <td>Good Profit</td>\n",
       "      <td>1.0</td>\n",
       "      <td>0.0</td>\n",
       "      <td>0.0</td>\n",
       "      <td>...</td>\n",
       "      <td>0.0</td>\n",
       "      <td>0.0</td>\n",
       "      <td>0.0</td>\n",
       "      <td>0.0</td>\n",
       "      <td>0.0</td>\n",
       "      <td>0.0</td>\n",
       "      <td>0.0</td>\n",
       "      <td>0.0</td>\n",
       "      <td>1.0</td>\n",
       "      <td>0.0</td>\n",
       "    </tr>\n",
       "    <tr>\n",
       "      <th>8222</th>\n",
       "      <td>1392</td>\n",
       "      <td>4.00</td>\n",
       "      <td>7.00</td>\n",
       "      <td>9744.00</td>\n",
       "      <td>5568.00</td>\n",
       "      <td>43</td>\n",
       "      <td>Excellent Profits</td>\n",
       "      <td>1.0</td>\n",
       "      <td>0.0</td>\n",
       "      <td>0.0</td>\n",
       "      <td>...</td>\n",
       "      <td>0.0</td>\n",
       "      <td>0.0</td>\n",
       "      <td>0.0</td>\n",
       "      <td>0.0</td>\n",
       "      <td>0.0</td>\n",
       "      <td>0.0</td>\n",
       "      <td>0.0</td>\n",
       "      <td>0.0</td>\n",
       "      <td>0.0</td>\n",
       "      <td>0.0</td>\n",
       "    </tr>\n",
       "  </tbody>\n",
       "</table>\n",
       "<p>5 rows × 149 columns</p>\n",
       "</div>"
      ],
      "text/plain": [
       "       Volume  Cost per unit  Price per unit  Revenues  Total Cost  \\\n",
       "key_0                                                                \n",
       "4679      120           1.07            1.39    166.80      128.40   \n",
       "6634      816           2.25            3.43   2798.88     1836.00   \n",
       "9775     2040           2.76            3.44   7017.60     5630.40   \n",
       "15050     588           1.87            2.40   1411.20     1099.56   \n",
       "8222     1392           4.00            7.00   9744.00     5568.00   \n",
       "\n",
       "       Profit Percent    Summary Profits  Type_Convenience stores  \\\n",
       "key_0                                                               \n",
       "4679               23        Good Profit                      1.0   \n",
       "6634               34        Good Profit                      1.0   \n",
       "9775               20  Acceptable Profit                      1.0   \n",
       "15050              22        Good Profit                      1.0   \n",
       "8222               43  Excellent Profits                      1.0   \n",
       "\n",
       "       Type_Hypermarkets  Type_Supermarkets  ...  Producer_Taylor farms  \\\n",
       "key_0                                        ...                          \n",
       "4679                 0.0                0.0  ...                    0.0   \n",
       "6634                 0.0                0.0  ...                    0.0   \n",
       "9775                 0.0                0.0  ...                    0.0   \n",
       "15050                0.0                0.0  ...                    0.0   \n",
       "8222                 0.0                0.0  ...                    0.0   \n",
       "\n",
       "       Producer_The food world  Producer_Tuborg  Producer_Turgsbro  \\\n",
       "key_0                                                                \n",
       "4679                       0.0              0.0                0.0   \n",
       "6634                       0.0              0.0                0.0   \n",
       "9775                       0.0              0.0                0.0   \n",
       "15050                      0.0              0.0                0.0   \n",
       "8222                       0.0              0.0                0.0   \n",
       "\n",
       "       Producer_Ulker  Producer_Unilever  Producer_Valtaro  Producer_Veet  \\\n",
       "key_0                                                                       \n",
       "4679              0.0                0.0               0.0            0.0   \n",
       "6634              0.0                0.0               0.0            0.0   \n",
       "9775              0.0                0.0               0.0            0.0   \n",
       "15050             0.0                0.0               0.0            0.0   \n",
       "8222              0.0                0.0               0.0            0.0   \n",
       "\n",
       "       Producer_WC Net  Producer_Wild West  \n",
       "key_0                                       \n",
       "4679               0.0                 0.0  \n",
       "6634               0.0                 0.0  \n",
       "9775               0.0                 0.0  \n",
       "15050              1.0                 0.0  \n",
       "8222               0.0                 0.0  \n",
       "\n",
       "[5 rows x 149 columns]"
      ]
     },
     "execution_count": 23,
     "metadata": {},
     "output_type": "execute_result"
    }
   ],
   "source": [
    "training.head()"
   ]
  },
  {
   "cell_type": "code",
   "execution_count": 24,
   "id": "0561ec20",
   "metadata": {
    "colab": {
     "base_uri": "https://localhost:8080/",
     "height": 452
    },
    "executionInfo": {
     "elapsed": 9,
     "status": "ok",
     "timestamp": 1667072627011,
     "user": {
      "displayName": "ESRAA ZAHAM ALYOUBI",
      "userId": "10961204535067338449"
     },
     "user_tz": -180
    },
    "id": "0561ec20",
    "outputId": "0f11f7c9-1430-451e-ed5a-e433ae5e8234"
   },
   "outputs": [
    {
     "data": {
      "text/html": [
       "<div>\n",
       "<style scoped>\n",
       "    .dataframe tbody tr th:only-of-type {\n",
       "        vertical-align: middle;\n",
       "    }\n",
       "\n",
       "    .dataframe tbody tr th {\n",
       "        vertical-align: top;\n",
       "    }\n",
       "\n",
       "    .dataframe thead th {\n",
       "        text-align: right;\n",
       "    }\n",
       "</style>\n",
       "<table border=\"1\" class=\"dataframe\">\n",
       "  <thead>\n",
       "    <tr style=\"text-align: right;\">\n",
       "      <th></th>\n",
       "      <th>Volume</th>\n",
       "      <th>Cost per unit</th>\n",
       "      <th>Price per unit</th>\n",
       "      <th>Revenues</th>\n",
       "      <th>Total Cost</th>\n",
       "      <th>Profit Percent</th>\n",
       "      <th>Summary Profits</th>\n",
       "      <th>Type_Convenience stores</th>\n",
       "      <th>Type_Hypermarkets</th>\n",
       "      <th>Type_Supermarkets</th>\n",
       "      <th>...</th>\n",
       "      <th>Producer_Taylor farms</th>\n",
       "      <th>Producer_The food world</th>\n",
       "      <th>Producer_Tuborg</th>\n",
       "      <th>Producer_Turgsbro</th>\n",
       "      <th>Producer_Ulker</th>\n",
       "      <th>Producer_Unilever</th>\n",
       "      <th>Producer_Valtaro</th>\n",
       "      <th>Producer_Veet</th>\n",
       "      <th>Producer_WC Net</th>\n",
       "      <th>Producer_Wild West</th>\n",
       "    </tr>\n",
       "    <tr>\n",
       "      <th>key_0</th>\n",
       "      <th></th>\n",
       "      <th></th>\n",
       "      <th></th>\n",
       "      <th></th>\n",
       "      <th></th>\n",
       "      <th></th>\n",
       "      <th></th>\n",
       "      <th></th>\n",
       "      <th></th>\n",
       "      <th></th>\n",
       "      <th></th>\n",
       "      <th></th>\n",
       "      <th></th>\n",
       "      <th></th>\n",
       "      <th></th>\n",
       "      <th></th>\n",
       "      <th></th>\n",
       "      <th></th>\n",
       "      <th></th>\n",
       "      <th></th>\n",
       "      <th></th>\n",
       "    </tr>\n",
       "  </thead>\n",
       "  <tbody>\n",
       "    <tr>\n",
       "      <th>6077</th>\n",
       "      <td>1416</td>\n",
       "      <td>0.71</td>\n",
       "      <td>0.94</td>\n",
       "      <td>1331.04</td>\n",
       "      <td>1005.36</td>\n",
       "      <td>24</td>\n",
       "      <td>Good Profit</td>\n",
       "      <td>0.0</td>\n",
       "      <td>1.0</td>\n",
       "      <td>0.0</td>\n",
       "      <td>...</td>\n",
       "      <td>0.0</td>\n",
       "      <td>0.0</td>\n",
       "      <td>0.0</td>\n",
       "      <td>0.0</td>\n",
       "      <td>0.0</td>\n",
       "      <td>0.0</td>\n",
       "      <td>0.0</td>\n",
       "      <td>0.0</td>\n",
       "      <td>0.0</td>\n",
       "      <td>0.0</td>\n",
       "    </tr>\n",
       "    <tr>\n",
       "      <th>7894</th>\n",
       "      <td>612</td>\n",
       "      <td>2.65</td>\n",
       "      <td>3.76</td>\n",
       "      <td>2301.12</td>\n",
       "      <td>1621.80</td>\n",
       "      <td>30</td>\n",
       "      <td>Good Profit</td>\n",
       "      <td>1.0</td>\n",
       "      <td>0.0</td>\n",
       "      <td>0.0</td>\n",
       "      <td>...</td>\n",
       "      <td>0.0</td>\n",
       "      <td>0.0</td>\n",
       "      <td>0.0</td>\n",
       "      <td>0.0</td>\n",
       "      <td>0.0</td>\n",
       "      <td>0.0</td>\n",
       "      <td>0.0</td>\n",
       "      <td>0.0</td>\n",
       "      <td>0.0</td>\n",
       "      <td>0.0</td>\n",
       "    </tr>\n",
       "    <tr>\n",
       "      <th>6820</th>\n",
       "      <td>456</td>\n",
       "      <td>4.22</td>\n",
       "      <td>6.45</td>\n",
       "      <td>2941.20</td>\n",
       "      <td>1924.32</td>\n",
       "      <td>35</td>\n",
       "      <td>Good Profit</td>\n",
       "      <td>1.0</td>\n",
       "      <td>0.0</td>\n",
       "      <td>0.0</td>\n",
       "      <td>...</td>\n",
       "      <td>0.0</td>\n",
       "      <td>0.0</td>\n",
       "      <td>0.0</td>\n",
       "      <td>0.0</td>\n",
       "      <td>0.0</td>\n",
       "      <td>0.0</td>\n",
       "      <td>0.0</td>\n",
       "      <td>0.0</td>\n",
       "      <td>0.0</td>\n",
       "      <td>1.0</td>\n",
       "    </tr>\n",
       "    <tr>\n",
       "      <th>1593</th>\n",
       "      <td>540</td>\n",
       "      <td>5.90</td>\n",
       "      <td>8.60</td>\n",
       "      <td>4633.20</td>\n",
       "      <td>3182.40</td>\n",
       "      <td>31</td>\n",
       "      <td>Good Profit</td>\n",
       "      <td>1.0</td>\n",
       "      <td>0.0</td>\n",
       "      <td>0.0</td>\n",
       "      <td>...</td>\n",
       "      <td>0.0</td>\n",
       "      <td>0.0</td>\n",
       "      <td>0.0</td>\n",
       "      <td>0.0</td>\n",
       "      <td>0.0</td>\n",
       "      <td>0.0</td>\n",
       "      <td>0.0</td>\n",
       "      <td>0.0</td>\n",
       "      <td>0.0</td>\n",
       "      <td>0.0</td>\n",
       "    </tr>\n",
       "    <tr>\n",
       "      <th>10717</th>\n",
       "      <td>852</td>\n",
       "      <td>2.42</td>\n",
       "      <td>3.29</td>\n",
       "      <td>2803.08</td>\n",
       "      <td>2061.84</td>\n",
       "      <td>26</td>\n",
       "      <td>Good Profit</td>\n",
       "      <td>1.0</td>\n",
       "      <td>0.0</td>\n",
       "      <td>0.0</td>\n",
       "      <td>...</td>\n",
       "      <td>0.0</td>\n",
       "      <td>0.0</td>\n",
       "      <td>0.0</td>\n",
       "      <td>0.0</td>\n",
       "      <td>0.0</td>\n",
       "      <td>0.0</td>\n",
       "      <td>0.0</td>\n",
       "      <td>0.0</td>\n",
       "      <td>0.0</td>\n",
       "      <td>0.0</td>\n",
       "    </tr>\n",
       "  </tbody>\n",
       "</table>\n",
       "<p>5 rows × 149 columns</p>\n",
       "</div>"
      ],
      "text/plain": [
       "       Volume  Cost per unit  Price per unit  Revenues  Total Cost  \\\n",
       "key_0                                                                \n",
       "6077     1416           0.71            0.94   1331.04     1005.36   \n",
       "7894      612           2.65            3.76   2301.12     1621.80   \n",
       "6820      456           4.22            6.45   2941.20     1924.32   \n",
       "1593      540           5.90            8.60   4633.20     3182.40   \n",
       "10717     852           2.42            3.29   2803.08     2061.84   \n",
       "\n",
       "       Profit Percent Summary Profits  Type_Convenience stores  \\\n",
       "key_0                                                            \n",
       "6077               24     Good Profit                      0.0   \n",
       "7894               30     Good Profit                      1.0   \n",
       "6820               35     Good Profit                      1.0   \n",
       "1593               31     Good Profit                      1.0   \n",
       "10717              26     Good Profit                      1.0   \n",
       "\n",
       "       Type_Hypermarkets  Type_Supermarkets  ...  Producer_Taylor farms  \\\n",
       "key_0                                        ...                          \n",
       "6077                 1.0                0.0  ...                    0.0   \n",
       "7894                 0.0                0.0  ...                    0.0   \n",
       "6820                 0.0                0.0  ...                    0.0   \n",
       "1593                 0.0                0.0  ...                    0.0   \n",
       "10717                0.0                0.0  ...                    0.0   \n",
       "\n",
       "       Producer_The food world  Producer_Tuborg  Producer_Turgsbro  \\\n",
       "key_0                                                                \n",
       "6077                       0.0              0.0                0.0   \n",
       "7894                       0.0              0.0                0.0   \n",
       "6820                       0.0              0.0                0.0   \n",
       "1593                       0.0              0.0                0.0   \n",
       "10717                      0.0              0.0                0.0   \n",
       "\n",
       "       Producer_Ulker  Producer_Unilever  Producer_Valtaro  Producer_Veet  \\\n",
       "key_0                                                                       \n",
       "6077              0.0                0.0               0.0            0.0   \n",
       "7894              0.0                0.0               0.0            0.0   \n",
       "6820              0.0                0.0               0.0            0.0   \n",
       "1593              0.0                0.0               0.0            0.0   \n",
       "10717             0.0                0.0               0.0            0.0   \n",
       "\n",
       "       Producer_WC Net  Producer_Wild West  \n",
       "key_0                                       \n",
       "6077               0.0                 0.0  \n",
       "7894               0.0                 0.0  \n",
       "6820               0.0                 1.0  \n",
       "1593               0.0                 0.0  \n",
       "10717              0.0                 0.0  \n",
       "\n",
       "[5 rows x 149 columns]"
      ]
     },
     "execution_count": 24,
     "metadata": {},
     "output_type": "execute_result"
    }
   ],
   "source": [
    "test.head()"
   ]
  },
  {
   "cell_type": "code",
   "execution_count": 25,
   "id": "07465564",
   "metadata": {
    "executionInfo": {
     "elapsed": 8,
     "status": "ok",
     "timestamp": 1667072627012,
     "user": {
      "displayName": "ESRAA ZAHAM ALYOUBI",
      "userId": "10961204535067338449"
     },
     "user_tz": -180
    },
    "id": "07465564"
   },
   "outputs": [],
   "source": [
    "ordinal = OrdinalEncoder()\n",
    "\n",
    "col_names = [\"Summary Profits\"]\n",
    "\n",
    "# Ordinal encode the column\n",
    "ordinal_ls = ordinal.fit_transform(training[col_names])\n",
    "ordinal_ls_val = ordinal.transform(test[col_names])"
   ]
  },
  {
   "cell_type": "code",
   "execution_count": 26,
   "id": "b76fb51c",
   "metadata": {
    "colab": {
     "base_uri": "https://localhost:8080/"
    },
    "executionInfo": {
     "elapsed": 3,
     "status": "ok",
     "timestamp": 1667072627682,
     "user": {
      "displayName": "ESRAA ZAHAM ALYOUBI",
      "userId": "10961204535067338449"
     },
     "user_tz": -180
    },
    "id": "b76fb51c",
    "outputId": "d3d2c108-9fb2-48f7-ac0c-0d1aacda3bb0"
   },
   "outputs": [
    {
     "data": {
      "text/plain": [
       "[array(['Acceptable Profit', 'Excellent Profits', 'Good Profit'],\n",
       "       dtype=object)]"
      ]
     },
     "execution_count": 26,
     "metadata": {},
     "output_type": "execute_result"
    }
   ],
   "source": [
    "# Look at categories\n",
    "ordinal.categories_"
   ]
  },
  {
   "cell_type": "code",
   "execution_count": 27,
   "id": "a86cbc33",
   "metadata": {
    "colab": {
     "base_uri": "https://localhost:8080/",
     "height": 366
    },
    "executionInfo": {
     "elapsed": 5,
     "status": "ok",
     "timestamp": 1667072628206,
     "user": {
      "displayName": "ESRAA ZAHAM ALYOUBI",
      "userId": "10961204535067338449"
     },
     "user_tz": -180
    },
    "id": "a86cbc33",
    "outputId": "4101f0c1-4e5d-4462-94b0-8c3c846e8bb3"
   },
   "outputs": [
    {
     "data": {
      "text/html": [
       "<div>\n",
       "<style scoped>\n",
       "    .dataframe tbody tr th:only-of-type {\n",
       "        vertical-align: middle;\n",
       "    }\n",
       "\n",
       "    .dataframe tbody tr th {\n",
       "        vertical-align: top;\n",
       "    }\n",
       "\n",
       "    .dataframe thead th {\n",
       "        text-align: right;\n",
       "    }\n",
       "</style>\n",
       "<table border=\"1\" class=\"dataframe\">\n",
       "  <thead>\n",
       "    <tr style=\"text-align: right;\">\n",
       "      <th></th>\n",
       "      <th>Volume</th>\n",
       "      <th>Cost per unit</th>\n",
       "      <th>Price per unit</th>\n",
       "      <th>Revenues</th>\n",
       "      <th>Total Cost</th>\n",
       "      <th>Profit Percent</th>\n",
       "      <th>Summary Profits</th>\n",
       "      <th>Type_Convenience stores</th>\n",
       "      <th>Type_Hypermarkets</th>\n",
       "      <th>Type_Supermarkets</th>\n",
       "      <th>...</th>\n",
       "      <th>Producer_Taylor farms</th>\n",
       "      <th>Producer_The food world</th>\n",
       "      <th>Producer_Tuborg</th>\n",
       "      <th>Producer_Turgsbro</th>\n",
       "      <th>Producer_Ulker</th>\n",
       "      <th>Producer_Unilever</th>\n",
       "      <th>Producer_Valtaro</th>\n",
       "      <th>Producer_Veet</th>\n",
       "      <th>Producer_WC Net</th>\n",
       "      <th>Producer_Wild West</th>\n",
       "    </tr>\n",
       "    <tr>\n",
       "      <th>key_0</th>\n",
       "      <th></th>\n",
       "      <th></th>\n",
       "      <th></th>\n",
       "      <th></th>\n",
       "      <th></th>\n",
       "      <th></th>\n",
       "      <th></th>\n",
       "      <th></th>\n",
       "      <th></th>\n",
       "      <th></th>\n",
       "      <th></th>\n",
       "      <th></th>\n",
       "      <th></th>\n",
       "      <th></th>\n",
       "      <th></th>\n",
       "      <th></th>\n",
       "      <th></th>\n",
       "      <th></th>\n",
       "      <th></th>\n",
       "      <th></th>\n",
       "      <th></th>\n",
       "    </tr>\n",
       "  </thead>\n",
       "  <tbody>\n",
       "    <tr>\n",
       "      <th>1648</th>\n",
       "      <td>2712</td>\n",
       "      <td>2.51</td>\n",
       "      <td>3.72</td>\n",
       "      <td>10088.64</td>\n",
       "      <td>6807.12</td>\n",
       "      <td>33</td>\n",
       "      <td>2.0</td>\n",
       "      <td>1.0</td>\n",
       "      <td>0.0</td>\n",
       "      <td>0.0</td>\n",
       "      <td>...</td>\n",
       "      <td>0.0</td>\n",
       "      <td>0.0</td>\n",
       "      <td>0.0</td>\n",
       "      <td>0.0</td>\n",
       "      <td>0.0</td>\n",
       "      <td>0.0</td>\n",
       "      <td>0.0</td>\n",
       "      <td>0.0</td>\n",
       "      <td>0.0</td>\n",
       "      <td>0.0</td>\n",
       "    </tr>\n",
       "    <tr>\n",
       "      <th>12910</th>\n",
       "      <td>576</td>\n",
       "      <td>5.00</td>\n",
       "      <td>5.18</td>\n",
       "      <td>2983.68</td>\n",
       "      <td>2880.00</td>\n",
       "      <td>3</td>\n",
       "      <td>0.0</td>\n",
       "      <td>1.0</td>\n",
       "      <td>0.0</td>\n",
       "      <td>0.0</td>\n",
       "      <td>...</td>\n",
       "      <td>0.0</td>\n",
       "      <td>0.0</td>\n",
       "      <td>0.0</td>\n",
       "      <td>0.0</td>\n",
       "      <td>0.0</td>\n",
       "      <td>0.0</td>\n",
       "      <td>0.0</td>\n",
       "      <td>0.0</td>\n",
       "      <td>0.0</td>\n",
       "      <td>0.0</td>\n",
       "    </tr>\n",
       "    <tr>\n",
       "      <th>6162</th>\n",
       "      <td>168</td>\n",
       "      <td>2.60</td>\n",
       "      <td>2.90</td>\n",
       "      <td>495.04</td>\n",
       "      <td>434.56</td>\n",
       "      <td>12</td>\n",
       "      <td>0.0</td>\n",
       "      <td>0.0</td>\n",
       "      <td>1.0</td>\n",
       "      <td>0.0</td>\n",
       "      <td>...</td>\n",
       "      <td>0.0</td>\n",
       "      <td>0.0</td>\n",
       "      <td>0.0</td>\n",
       "      <td>0.0</td>\n",
       "      <td>0.0</td>\n",
       "      <td>0.0</td>\n",
       "      <td>0.0</td>\n",
       "      <td>0.0</td>\n",
       "      <td>0.0</td>\n",
       "      <td>0.0</td>\n",
       "    </tr>\n",
       "    <tr>\n",
       "      <th>10592</th>\n",
       "      <td>1464</td>\n",
       "      <td>0.81</td>\n",
       "      <td>1.16</td>\n",
       "      <td>1698.24</td>\n",
       "      <td>1185.84</td>\n",
       "      <td>30</td>\n",
       "      <td>2.0</td>\n",
       "      <td>0.0</td>\n",
       "      <td>0.0</td>\n",
       "      <td>1.0</td>\n",
       "      <td>...</td>\n",
       "      <td>0.0</td>\n",
       "      <td>0.0</td>\n",
       "      <td>0.0</td>\n",
       "      <td>0.0</td>\n",
       "      <td>0.0</td>\n",
       "      <td>0.0</td>\n",
       "      <td>0.0</td>\n",
       "      <td>0.0</td>\n",
       "      <td>0.0</td>\n",
       "      <td>0.0</td>\n",
       "    </tr>\n",
       "    <tr>\n",
       "      <th>2557</th>\n",
       "      <td>300</td>\n",
       "      <td>2.61</td>\n",
       "      <td>3.50</td>\n",
       "      <td>1050.00</td>\n",
       "      <td>783.00</td>\n",
       "      <td>25</td>\n",
       "      <td>2.0</td>\n",
       "      <td>0.0</td>\n",
       "      <td>1.0</td>\n",
       "      <td>0.0</td>\n",
       "      <td>...</td>\n",
       "      <td>0.0</td>\n",
       "      <td>0.0</td>\n",
       "      <td>0.0</td>\n",
       "      <td>0.0</td>\n",
       "      <td>0.0</td>\n",
       "      <td>0.0</td>\n",
       "      <td>0.0</td>\n",
       "      <td>0.0</td>\n",
       "      <td>0.0</td>\n",
       "      <td>0.0</td>\n",
       "    </tr>\n",
       "  </tbody>\n",
       "</table>\n",
       "<p>5 rows × 149 columns</p>\n",
       "</div>"
      ],
      "text/plain": [
       "       Volume  Cost per unit  Price per unit  Revenues  Total Cost  \\\n",
       "key_0                                                                \n",
       "1648     2712           2.51            3.72  10088.64     6807.12   \n",
       "12910     576           5.00            5.18   2983.68     2880.00   \n",
       "6162      168           2.60            2.90    495.04      434.56   \n",
       "10592    1464           0.81            1.16   1698.24     1185.84   \n",
       "2557      300           2.61            3.50   1050.00      783.00   \n",
       "\n",
       "       Profit Percent  Summary Profits  Type_Convenience stores  \\\n",
       "key_0                                                             \n",
       "1648               33              2.0                      1.0   \n",
       "12910               3              0.0                      1.0   \n",
       "6162               12              0.0                      0.0   \n",
       "10592              30              2.0                      0.0   \n",
       "2557               25              2.0                      0.0   \n",
       "\n",
       "       Type_Hypermarkets  Type_Supermarkets  ...  Producer_Taylor farms  \\\n",
       "key_0                                        ...                          \n",
       "1648                 0.0                0.0  ...                    0.0   \n",
       "12910                0.0                0.0  ...                    0.0   \n",
       "6162                 1.0                0.0  ...                    0.0   \n",
       "10592                0.0                1.0  ...                    0.0   \n",
       "2557                 1.0                0.0  ...                    0.0   \n",
       "\n",
       "       Producer_The food world  Producer_Tuborg  Producer_Turgsbro  \\\n",
       "key_0                                                                \n",
       "1648                       0.0              0.0                0.0   \n",
       "12910                      0.0              0.0                0.0   \n",
       "6162                       0.0              0.0                0.0   \n",
       "10592                      0.0              0.0                0.0   \n",
       "2557                       0.0              0.0                0.0   \n",
       "\n",
       "       Producer_Ulker  Producer_Unilever  Producer_Valtaro  Producer_Veet  \\\n",
       "key_0                                                                       \n",
       "1648              0.0                0.0               0.0            0.0   \n",
       "12910             0.0                0.0               0.0            0.0   \n",
       "6162              0.0                0.0               0.0            0.0   \n",
       "10592             0.0                0.0               0.0            0.0   \n",
       "2557              0.0                0.0               0.0            0.0   \n",
       "\n",
       "       Producer_WC Net  Producer_Wild West  \n",
       "key_0                                       \n",
       "1648               0.0                 0.0  \n",
       "12910              0.0                 0.0  \n",
       "6162               0.0                 0.0  \n",
       "10592              0.0                 0.0  \n",
       "2557               0.0                 0.0  \n",
       "\n",
       "[5 rows x 149 columns]"
      ]
     },
     "execution_count": 27,
     "metadata": {},
     "output_type": "execute_result"
    }
   ],
   "source": [
    "# Add oridnally encoded column to the data\n",
    "training[\"Summary Profits\"] = ordinal_ls\n",
    "test[\"Summary Profits\"] = ordinal_ls_val\n",
    "\n",
    "training.sample(5)"
   ]
  },
  {
   "cell_type": "markdown",
   "id": "7cffabd6",
   "metadata": {
    "id": "7cffabd6"
   },
   "source": [
    "## Linear Regression"
   ]
  },
  {
   "cell_type": "code",
   "execution_count": 28,
   "id": "eb46b6ef",
   "metadata": {
    "executionInfo": {
     "elapsed": 508,
     "status": "ok",
     "timestamp": 1667072666437,
     "user": {
      "displayName": "ESRAA ZAHAM ALYOUBI",
      "userId": "10961204535067338449"
     },
     "user_tz": -180
    },
    "id": "eb46b6ef"
   },
   "outputs": [],
   "source": [
    "# Creating the feature set and the traget set for both the training and the validation \n",
    "\n",
    "target = \"Total Cost\"\n",
    "\n",
    "X_train = training.drop(target, axis=1)\n",
    "y_train = training[target]\n",
    "\n",
    "X_test = test.drop(target, axis=1)\n",
    "y_test = test[target]"
   ]
  },
  {
   "cell_type": "code",
   "execution_count": 44,
   "id": "091ceeeb",
   "metadata": {
    "colab": {
     "base_uri": "https://localhost:8080/"
    },
    "executionInfo": {
     "elapsed": 2,
     "status": "ok",
     "timestamp": 1667072667031,
     "user": {
      "displayName": "ESRAA ZAHAM ALYOUBI",
      "userId": "10961204535067338449"
     },
     "user_tz": -180
    },
    "id": "091ceeeb",
    "outputId": "70024000-8b6e-4f35-af16-a204c7abbd7f"
   },
   "outputs": [
    {
     "data": {
      "text/plain": [
       "0.9785356101077973"
      ]
     },
     "execution_count": 44,
     "metadata": {},
     "output_type": "execute_result"
    }
   ],
   "source": [
    "# Create a Pipeline for our model\n",
    "pipe = make_pipeline(\n",
    "    # 1st step handle missing values \n",
    "    SimpleImputer(), # Impute missing values\n",
    "    # scale columns \n",
    "    StandardScaler(),\n",
    "    # apply the model\n",
    "    LinearRegression()\n",
    ")\n",
    "\n",
    "pipe.fit(X_train,y_train)\n",
    "pipe.score(X_test, y_test)"
   ]
  },
  {
   "cell_type": "code",
   "execution_count": null,
   "id": "efc8ef44",
   "metadata": {
    "colab": {
     "base_uri": "https://localhost:8080/"
    },
    "executionInfo": {
     "elapsed": 577,
     "status": "ok",
     "timestamp": 1667069741813,
     "user": {
      "displayName": "ESRAA ZAHAM ALYOUBI",
      "userId": "10961204535067338449"
     },
     "user_tz": -180
    },
    "id": "efc8ef44",
    "outputId": "0da8306a-754e-404f-b48c-1cbfbde3f3ab"
   },
   "outputs": [
    {
     "data": {
      "text/plain": [
       "223.2661372145819"
      ]
     },
     "execution_count": 30,
     "metadata": {},
     "output_type": "execute_result"
    }
   ],
   "source": [
    "reg_lin = LinearRegression()\n",
    "reg_lin.fit(X_train, y_train)\n",
    "\n",
    "preds_lin = reg_lin.predict(X_test)\n",
    "mean_absolute_error(y_true=y_test, y_pred=preds_lin)"
   ]
  },
  {
   "cell_type": "code",
   "execution_count": null,
   "id": "voQFm82JoNhz",
   "metadata": {
    "colab": {
     "base_uri": "https://localhost:8080/"
    },
    "executionInfo": {
     "elapsed": 445,
     "status": "ok",
     "timestamp": 1667069744180,
     "user": {
      "displayName": "ESRAA ZAHAM ALYOUBI",
      "userId": "10961204535067338449"
     },
     "user_tz": -180
    },
    "id": "voQFm82JoNhz",
    "outputId": "5f009899-10fd-48de-f15c-e85965b0a0ab"
   },
   "outputs": [
    {
     "name": "stdout",
     "output_type": "stream",
     "text": [
      "MAE: 223.2661372145819\n",
      "MSE: 101413.56080009248\n",
      "RMSE: 318.45495882478025\n"
     ]
    }
   ],
   "source": [
    "print('MAE:', metrics.mean_absolute_error(y_true=y_test, y_pred=preds_lin))\n",
    "print('MSE:', metrics.mean_squared_error(y_true=y_test, y_pred=preds_lin))\n",
    "print('RMSE:', np.sqrt(metrics.mean_squared_error(y_true=y_test, y_pred=preds_lin)))"
   ]
  },
  {
   "cell_type": "markdown",
   "id": "3fa6c25d",
   "metadata": {
    "id": "3fa6c25d"
   },
   "source": [
    "# Linear Regression - Tuning "
   ]
  },
  {
   "cell_type": "code",
   "execution_count": null,
   "id": "aca6fe62",
   "metadata": {
    "id": "aca6fe62"
   },
   "outputs": [],
   "source": [
    "# we can tune \"adjust/change\" two parameters:\n",
    "# fit_intercept--> True or False\n",
    "# normalize --> True or False \n",
    "\n",
    "# The number of possibilities\n",
    "\n",
    "# 1st --> fit_intercept = True, normalize =True\n",
    "# 2nd  --> fit_intercept = True, normalize = False\n",
    "# 3rd --> fit_intercept = False, normalize =True\n",
    "# 4th --> fit_intercept = False, normalize =False\n",
    "\n",
    "lr = LinearRegression()"
   ]
  },
  {
   "cell_type": "code",
   "execution_count": null,
   "id": "930056a7",
   "metadata": {
    "id": "930056a7"
   },
   "outputs": [],
   "source": [
    "# Create a dictiionary of the parameters you want to tune\n",
    "\n",
    "# Note: more paramaters and values --> increase the run time\n",
    "\n",
    "p_grid = {'fit_intercept': [True, False],\n",
    "          'normalize': [True, False]}\n",
    "\n",
    "# Note: by default the cross validation is set to 5\n",
    "\n",
    "grid = GridSearchCV(lr, p_grid)\n",
    "\n",
    "#grid = GridSearchCV(lr, p_grid, cv = 10)"
   ]
  },
  {
   "cell_type": "code",
   "execution_count": null,
   "id": "5daf40a7",
   "metadata": {
    "colab": {
     "base_uri": "https://localhost:8080/"
    },
    "executionInfo": {
     "elapsed": 2640,
     "status": "ok",
     "timestamp": 1667069752834,
     "user": {
      "displayName": "ESRAA ZAHAM ALYOUBI",
      "userId": "10961204535067338449"
     },
     "user_tz": -180
    },
    "id": "5daf40a7",
    "outputId": "d506ef2b-79a7-416a-afe9-fdb0fdec17b1"
   },
   "outputs": [
    {
     "name": "stderr",
     "output_type": "stream",
     "text": [
      "/usr/local/lib/python3.7/dist-packages/sklearn/linear_model/_base.py:145: FutureWarning: 'normalize' was deprecated in version 1.0 and will be removed in 1.2.\n",
      "If you wish to scale the data, use Pipeline with a StandardScaler in a preprocessing stage. To reproduce the previous behavior:\n",
      "\n",
      "from sklearn.pipeline import make_pipeline\n",
      "\n",
      "model = make_pipeline(StandardScaler(with_mean=False), LinearRegression())\n",
      "\n",
      "If you wish to pass a sample_weight parameter, you need to pass it as a fit parameter to each step of the pipeline as follows:\n",
      "\n",
      "kwargs = {s[0] + '__sample_weight': sample_weight for s in model.steps}\n",
      "model.fit(X, y, **kwargs)\n",
      "\n",
      "\n",
      "  FutureWarning,\n",
      "/usr/local/lib/python3.7/dist-packages/sklearn/linear_model/_base.py:145: FutureWarning: 'normalize' was deprecated in version 1.0 and will be removed in 1.2.\n",
      "If you wish to scale the data, use Pipeline with a StandardScaler in a preprocessing stage. To reproduce the previous behavior:\n",
      "\n",
      "from sklearn.pipeline import make_pipeline\n",
      "\n",
      "model = make_pipeline(StandardScaler(with_mean=False), LinearRegression())\n",
      "\n",
      "If you wish to pass a sample_weight parameter, you need to pass it as a fit parameter to each step of the pipeline as follows:\n",
      "\n",
      "kwargs = {s[0] + '__sample_weight': sample_weight for s in model.steps}\n",
      "model.fit(X, y, **kwargs)\n",
      "\n",
      "\n",
      "  FutureWarning,\n",
      "/usr/local/lib/python3.7/dist-packages/sklearn/linear_model/_base.py:145: FutureWarning: 'normalize' was deprecated in version 1.0 and will be removed in 1.2.\n",
      "If you wish to scale the data, use Pipeline with a StandardScaler in a preprocessing stage. To reproduce the previous behavior:\n",
      "\n",
      "from sklearn.pipeline import make_pipeline\n",
      "\n",
      "model = make_pipeline(StandardScaler(with_mean=False), LinearRegression())\n",
      "\n",
      "If you wish to pass a sample_weight parameter, you need to pass it as a fit parameter to each step of the pipeline as follows:\n",
      "\n",
      "kwargs = {s[0] + '__sample_weight': sample_weight for s in model.steps}\n",
      "model.fit(X, y, **kwargs)\n",
      "\n",
      "\n",
      "  FutureWarning,\n",
      "/usr/local/lib/python3.7/dist-packages/sklearn/linear_model/_base.py:145: FutureWarning: 'normalize' was deprecated in version 1.0 and will be removed in 1.2.\n",
      "If you wish to scale the data, use Pipeline with a StandardScaler in a preprocessing stage. To reproduce the previous behavior:\n",
      "\n",
      "from sklearn.pipeline import make_pipeline\n",
      "\n",
      "model = make_pipeline(StandardScaler(with_mean=False), LinearRegression())\n",
      "\n",
      "If you wish to pass a sample_weight parameter, you need to pass it as a fit parameter to each step of the pipeline as follows:\n",
      "\n",
      "kwargs = {s[0] + '__sample_weight': sample_weight for s in model.steps}\n",
      "model.fit(X, y, **kwargs)\n",
      "\n",
      "\n",
      "  FutureWarning,\n",
      "/usr/local/lib/python3.7/dist-packages/sklearn/linear_model/_base.py:145: FutureWarning: 'normalize' was deprecated in version 1.0 and will be removed in 1.2.\n",
      "If you wish to scale the data, use Pipeline with a StandardScaler in a preprocessing stage. To reproduce the previous behavior:\n",
      "\n",
      "from sklearn.pipeline import make_pipeline\n",
      "\n",
      "model = make_pipeline(StandardScaler(with_mean=False), LinearRegression())\n",
      "\n",
      "If you wish to pass a sample_weight parameter, you need to pass it as a fit parameter to each step of the pipeline as follows:\n",
      "\n",
      "kwargs = {s[0] + '__sample_weight': sample_weight for s in model.steps}\n",
      "model.fit(X, y, **kwargs)\n",
      "\n",
      "\n",
      "  FutureWarning,\n",
      "/usr/local/lib/python3.7/dist-packages/sklearn/linear_model/_base.py:155: FutureWarning: 'normalize' was deprecated in version 1.0 and will be removed in 1.2. Please leave the normalize parameter to its default value to silence this warning. The default behavior of this estimator is to not do any normalization. If normalization is needed please use sklearn.preprocessing.StandardScaler instead.\n",
      "  FutureWarning,\n",
      "/usr/local/lib/python3.7/dist-packages/sklearn/linear_model/_base.py:155: FutureWarning: 'normalize' was deprecated in version 1.0 and will be removed in 1.2. Please leave the normalize parameter to its default value to silence this warning. The default behavior of this estimator is to not do any normalization. If normalization is needed please use sklearn.preprocessing.StandardScaler instead.\n",
      "  FutureWarning,\n",
      "/usr/local/lib/python3.7/dist-packages/sklearn/linear_model/_base.py:155: FutureWarning: 'normalize' was deprecated in version 1.0 and will be removed in 1.2. Please leave the normalize parameter to its default value to silence this warning. The default behavior of this estimator is to not do any normalization. If normalization is needed please use sklearn.preprocessing.StandardScaler instead.\n",
      "  FutureWarning,\n",
      "/usr/local/lib/python3.7/dist-packages/sklearn/linear_model/_base.py:155: FutureWarning: 'normalize' was deprecated in version 1.0 and will be removed in 1.2. Please leave the normalize parameter to its default value to silence this warning. The default behavior of this estimator is to not do any normalization. If normalization is needed please use sklearn.preprocessing.StandardScaler instead.\n",
      "  FutureWarning,\n",
      "/usr/local/lib/python3.7/dist-packages/sklearn/linear_model/_base.py:155: FutureWarning: 'normalize' was deprecated in version 1.0 and will be removed in 1.2. Please leave the normalize parameter to its default value to silence this warning. The default behavior of this estimator is to not do any normalization. If normalization is needed please use sklearn.preprocessing.StandardScaler instead.\n",
      "  FutureWarning,\n",
      "/usr/local/lib/python3.7/dist-packages/sklearn/linear_model/_base.py:145: FutureWarning: 'normalize' was deprecated in version 1.0 and will be removed in 1.2.\n",
      "If you wish to scale the data, use Pipeline with a StandardScaler in a preprocessing stage. To reproduce the previous behavior:\n",
      "\n",
      "from sklearn.pipeline import make_pipeline\n",
      "\n",
      "model = make_pipeline(StandardScaler(with_mean=False), LinearRegression())\n",
      "\n",
      "If you wish to pass a sample_weight parameter, you need to pass it as a fit parameter to each step of the pipeline as follows:\n",
      "\n",
      "kwargs = {s[0] + '__sample_weight': sample_weight for s in model.steps}\n",
      "model.fit(X, y, **kwargs)\n",
      "\n",
      "\n",
      "  FutureWarning,\n",
      "/usr/local/lib/python3.7/dist-packages/sklearn/linear_model/_base.py:145: FutureWarning: 'normalize' was deprecated in version 1.0 and will be removed in 1.2.\n",
      "If you wish to scale the data, use Pipeline with a StandardScaler in a preprocessing stage. To reproduce the previous behavior:\n",
      "\n",
      "from sklearn.pipeline import make_pipeline\n",
      "\n",
      "model = make_pipeline(StandardScaler(with_mean=False), LinearRegression())\n",
      "\n",
      "If you wish to pass a sample_weight parameter, you need to pass it as a fit parameter to each step of the pipeline as follows:\n",
      "\n",
      "kwargs = {s[0] + '__sample_weight': sample_weight for s in model.steps}\n",
      "model.fit(X, y, **kwargs)\n",
      "\n",
      "\n",
      "  FutureWarning,\n",
      "/usr/local/lib/python3.7/dist-packages/sklearn/linear_model/_base.py:145: FutureWarning: 'normalize' was deprecated in version 1.0 and will be removed in 1.2.\n",
      "If you wish to scale the data, use Pipeline with a StandardScaler in a preprocessing stage. To reproduce the previous behavior:\n",
      "\n",
      "from sklearn.pipeline import make_pipeline\n",
      "\n",
      "model = make_pipeline(StandardScaler(with_mean=False), LinearRegression())\n",
      "\n",
      "If you wish to pass a sample_weight parameter, you need to pass it as a fit parameter to each step of the pipeline as follows:\n",
      "\n",
      "kwargs = {s[0] + '__sample_weight': sample_weight for s in model.steps}\n",
      "model.fit(X, y, **kwargs)\n",
      "\n",
      "\n",
      "  FutureWarning,\n",
      "/usr/local/lib/python3.7/dist-packages/sklearn/linear_model/_base.py:145: FutureWarning: 'normalize' was deprecated in version 1.0 and will be removed in 1.2.\n",
      "If you wish to scale the data, use Pipeline with a StandardScaler in a preprocessing stage. To reproduce the previous behavior:\n",
      "\n",
      "from sklearn.pipeline import make_pipeline\n",
      "\n",
      "model = make_pipeline(StandardScaler(with_mean=False), LinearRegression())\n",
      "\n",
      "If you wish to pass a sample_weight parameter, you need to pass it as a fit parameter to each step of the pipeline as follows:\n",
      "\n",
      "kwargs = {s[0] + '__sample_weight': sample_weight for s in model.steps}\n",
      "model.fit(X, y, **kwargs)\n",
      "\n",
      "\n",
      "  FutureWarning,\n",
      "/usr/local/lib/python3.7/dist-packages/sklearn/linear_model/_base.py:145: FutureWarning: 'normalize' was deprecated in version 1.0 and will be removed in 1.2.\n",
      "If you wish to scale the data, use Pipeline with a StandardScaler in a preprocessing stage. To reproduce the previous behavior:\n",
      "\n",
      "from sklearn.pipeline import make_pipeline\n",
      "\n",
      "model = make_pipeline(StandardScaler(with_mean=False), LinearRegression())\n",
      "\n",
      "If you wish to pass a sample_weight parameter, you need to pass it as a fit parameter to each step of the pipeline as follows:\n",
      "\n",
      "kwargs = {s[0] + '__sample_weight': sample_weight for s in model.steps}\n",
      "model.fit(X, y, **kwargs)\n",
      "\n",
      "\n",
      "  FutureWarning,\n",
      "/usr/local/lib/python3.7/dist-packages/sklearn/linear_model/_base.py:155: FutureWarning: 'normalize' was deprecated in version 1.0 and will be removed in 1.2. Please leave the normalize parameter to its default value to silence this warning. The default behavior of this estimator is to not do any normalization. If normalization is needed please use sklearn.preprocessing.StandardScaler instead.\n",
      "  FutureWarning,\n",
      "/usr/local/lib/python3.7/dist-packages/sklearn/linear_model/_base.py:155: FutureWarning: 'normalize' was deprecated in version 1.0 and will be removed in 1.2. Please leave the normalize parameter to its default value to silence this warning. The default behavior of this estimator is to not do any normalization. If normalization is needed please use sklearn.preprocessing.StandardScaler instead.\n",
      "  FutureWarning,\n",
      "/usr/local/lib/python3.7/dist-packages/sklearn/linear_model/_base.py:155: FutureWarning: 'normalize' was deprecated in version 1.0 and will be removed in 1.2. Please leave the normalize parameter to its default value to silence this warning. The default behavior of this estimator is to not do any normalization. If normalization is needed please use sklearn.preprocessing.StandardScaler instead.\n",
      "  FutureWarning,\n",
      "/usr/local/lib/python3.7/dist-packages/sklearn/linear_model/_base.py:155: FutureWarning: 'normalize' was deprecated in version 1.0 and will be removed in 1.2. Please leave the normalize parameter to its default value to silence this warning. The default behavior of this estimator is to not do any normalization. If normalization is needed please use sklearn.preprocessing.StandardScaler instead.\n",
      "  FutureWarning,\n",
      "/usr/local/lib/python3.7/dist-packages/sklearn/linear_model/_base.py:155: FutureWarning: 'normalize' was deprecated in version 1.0 and will be removed in 1.2. Please leave the normalize parameter to its default value to silence this warning. The default behavior of this estimator is to not do any normalization. If normalization is needed please use sklearn.preprocessing.StandardScaler instead.\n",
      "  FutureWarning,\n",
      "/usr/local/lib/python3.7/dist-packages/sklearn/linear_model/_base.py:145: FutureWarning: 'normalize' was deprecated in version 1.0 and will be removed in 1.2.\n",
      "If you wish to scale the data, use Pipeline with a StandardScaler in a preprocessing stage. To reproduce the previous behavior:\n",
      "\n",
      "from sklearn.pipeline import make_pipeline\n",
      "\n",
      "model = make_pipeline(StandardScaler(with_mean=False), LinearRegression())\n",
      "\n",
      "If you wish to pass a sample_weight parameter, you need to pass it as a fit parameter to each step of the pipeline as follows:\n",
      "\n",
      "kwargs = {s[0] + '__sample_weight': sample_weight for s in model.steps}\n",
      "model.fit(X, y, **kwargs)\n",
      "\n",
      "\n",
      "  FutureWarning,\n"
     ]
    },
    {
     "data": {
      "text/plain": [
       "GridSearchCV(estimator=LinearRegression(),\n",
       "             param_grid={'fit_intercept': [True, False],\n",
       "                         'normalize': [True, False]})"
      ]
     },
     "execution_count": 34,
     "metadata": {},
     "output_type": "execute_result"
    }
   ],
   "source": [
    "grid.fit(X_train, y_train)"
   ]
  },
  {
   "cell_type": "code",
   "execution_count": null,
   "id": "94283bf2",
   "metadata": {
    "colab": {
     "base_uri": "https://localhost:8080/"
    },
    "executionInfo": {
     "elapsed": 9,
     "status": "ok",
     "timestamp": 1667069752834,
     "user": {
      "displayName": "ESRAA ZAHAM ALYOUBI",
      "userId": "10961204535067338449"
     },
     "user_tz": -180
    },
    "id": "94283bf2",
    "outputId": "0339839a-83b2-4e46-f042-2c2ef3bfd37e"
   },
   "outputs": [
    {
     "data": {
      "text/plain": [
       "{'mean_fit_time': array([0.14238424, 0.1391624 , 0.12717657, 0.12181115]),\n",
       " 'std_fit_time': array([0.011802  , 0.0191651 , 0.00802324, 0.00476491]),\n",
       " 'mean_score_time': array([0.00790572, 0.00882607, 0.00704226, 0.00860267]),\n",
       " 'std_score_time': array([0.00273893, 0.00192828, 0.00045346, 0.00281525]),\n",
       " 'param_fit_intercept': masked_array(data=[True, True, False, False],\n",
       "              mask=[False, False, False, False],\n",
       "        fill_value='?',\n",
       "             dtype=object),\n",
       " 'param_normalize': masked_array(data=[True, False, True, False],\n",
       "              mask=[False, False, False, False],\n",
       "        fill_value='?',\n",
       "             dtype=object),\n",
       " 'params': [{'fit_intercept': True, 'normalize': True},\n",
       "  {'fit_intercept': True, 'normalize': False},\n",
       "  {'fit_intercept': False, 'normalize': True},\n",
       "  {'fit_intercept': False, 'normalize': False}],\n",
       " 'split0_test_score': array([0.97852858, 0.97852244, 0.97852244, 0.97852244]),\n",
       " 'split1_test_score': array([0.97904933, 0.97905239, 0.97905239, 0.97905239]),\n",
       " 'split2_test_score': array([0.97639567, 0.97639895, 0.97639895, 0.97639895]),\n",
       " 'split3_test_score': array([-3.55278524e+20,  9.75435195e-01,  9.75435704e-01,  9.75435704e-01]),\n",
       " 'split4_test_score': array([0.97862837, 0.97862869, 0.97862869, 0.97862869]),\n",
       " 'mean_test_score': array([-7.10557049e+19,  9.77607532e-01,  9.77607634e-01,  9.77607634e-01]),\n",
       " 'std_test_score': array([1.42111410e+20, 1.42457989e-03, 1.42442483e-03, 1.42442483e-03]),\n",
       " 'rank_test_score': array([4, 3, 1, 1], dtype=int32)}"
      ]
     },
     "execution_count": 35,
     "metadata": {},
     "output_type": "execute_result"
    }
   ],
   "source": [
    "grid.cv_results_"
   ]
  },
  {
   "cell_type": "code",
   "execution_count": null,
   "id": "aa1426cf",
   "metadata": {
    "colab": {
     "base_uri": "https://localhost:8080/",
     "height": 447
    },
    "executionInfo": {
     "elapsed": 4,
     "status": "ok",
     "timestamp": 1667069753762,
     "user": {
      "displayName": "ESRAA ZAHAM ALYOUBI",
      "userId": "10961204535067338449"
     },
     "user_tz": -180
    },
    "id": "aa1426cf",
    "outputId": "6894c5a4-3137-48d0-bb43-24ee12bf6a12"
   },
   "outputs": [
    {
     "data": {
      "text/html": [
       "\n",
       "  <div id=\"df-716d663a-c13d-4922-89fa-972563437c88\">\n",
       "    <div class=\"colab-df-container\">\n",
       "      <div>\n",
       "<style scoped>\n",
       "    .dataframe tbody tr th:only-of-type {\n",
       "        vertical-align: middle;\n",
       "    }\n",
       "\n",
       "    .dataframe tbody tr th {\n",
       "        vertical-align: top;\n",
       "    }\n",
       "\n",
       "    .dataframe thead th {\n",
       "        text-align: right;\n",
       "    }\n",
       "</style>\n",
       "<table border=\"1\" class=\"dataframe\">\n",
       "  <thead>\n",
       "    <tr style=\"text-align: right;\">\n",
       "      <th></th>\n",
       "      <th>mean_fit_time</th>\n",
       "      <th>std_fit_time</th>\n",
       "      <th>mean_score_time</th>\n",
       "      <th>std_score_time</th>\n",
       "      <th>param_fit_intercept</th>\n",
       "      <th>param_normalize</th>\n",
       "      <th>params</th>\n",
       "      <th>split0_test_score</th>\n",
       "      <th>split1_test_score</th>\n",
       "      <th>split2_test_score</th>\n",
       "      <th>split3_test_score</th>\n",
       "      <th>split4_test_score</th>\n",
       "      <th>mean_test_score</th>\n",
       "      <th>std_test_score</th>\n",
       "      <th>rank_test_score</th>\n",
       "    </tr>\n",
       "  </thead>\n",
       "  <tbody>\n",
       "    <tr>\n",
       "      <th>0</th>\n",
       "      <td>0.142384</td>\n",
       "      <td>0.011802</td>\n",
       "      <td>0.007906</td>\n",
       "      <td>0.002739</td>\n",
       "      <td>True</td>\n",
       "      <td>True</td>\n",
       "      <td>{'fit_intercept': True, 'normalize': True}</td>\n",
       "      <td>0.978529</td>\n",
       "      <td>0.979049</td>\n",
       "      <td>0.976396</td>\n",
       "      <td>-3.552785e+20</td>\n",
       "      <td>0.978628</td>\n",
       "      <td>-7.105570e+19</td>\n",
       "      <td>1.421114e+20</td>\n",
       "      <td>4</td>\n",
       "    </tr>\n",
       "    <tr>\n",
       "      <th>1</th>\n",
       "      <td>0.139162</td>\n",
       "      <td>0.019165</td>\n",
       "      <td>0.008826</td>\n",
       "      <td>0.001928</td>\n",
       "      <td>True</td>\n",
       "      <td>False</td>\n",
       "      <td>{'fit_intercept': True, 'normalize': False}</td>\n",
       "      <td>0.978522</td>\n",
       "      <td>0.979052</td>\n",
       "      <td>0.976399</td>\n",
       "      <td>9.754352e-01</td>\n",
       "      <td>0.978629</td>\n",
       "      <td>9.776075e-01</td>\n",
       "      <td>1.424580e-03</td>\n",
       "      <td>3</td>\n",
       "    </tr>\n",
       "    <tr>\n",
       "      <th>2</th>\n",
       "      <td>0.127177</td>\n",
       "      <td>0.008023</td>\n",
       "      <td>0.007042</td>\n",
       "      <td>0.000453</td>\n",
       "      <td>False</td>\n",
       "      <td>True</td>\n",
       "      <td>{'fit_intercept': False, 'normalize': True}</td>\n",
       "      <td>0.978522</td>\n",
       "      <td>0.979052</td>\n",
       "      <td>0.976399</td>\n",
       "      <td>9.754357e-01</td>\n",
       "      <td>0.978629</td>\n",
       "      <td>9.776076e-01</td>\n",
       "      <td>1.424425e-03</td>\n",
       "      <td>1</td>\n",
       "    </tr>\n",
       "    <tr>\n",
       "      <th>3</th>\n",
       "      <td>0.121811</td>\n",
       "      <td>0.004765</td>\n",
       "      <td>0.008603</td>\n",
       "      <td>0.002815</td>\n",
       "      <td>False</td>\n",
       "      <td>False</td>\n",
       "      <td>{'fit_intercept': False, 'normalize': False}</td>\n",
       "      <td>0.978522</td>\n",
       "      <td>0.979052</td>\n",
       "      <td>0.976399</td>\n",
       "      <td>9.754357e-01</td>\n",
       "      <td>0.978629</td>\n",
       "      <td>9.776076e-01</td>\n",
       "      <td>1.424425e-03</td>\n",
       "      <td>1</td>\n",
       "    </tr>\n",
       "  </tbody>\n",
       "</table>\n",
       "</div>\n",
       "      <button class=\"colab-df-convert\" onclick=\"convertToInteractive('df-716d663a-c13d-4922-89fa-972563437c88')\"\n",
       "              title=\"Convert this dataframe to an interactive table.\"\n",
       "              style=\"display:none;\">\n",
       "        \n",
       "  <svg xmlns=\"http://www.w3.org/2000/svg\" height=\"24px\"viewBox=\"0 0 24 24\"\n",
       "       width=\"24px\">\n",
       "    <path d=\"M0 0h24v24H0V0z\" fill=\"none\"/>\n",
       "    <path d=\"M18.56 5.44l.94 2.06.94-2.06 2.06-.94-2.06-.94-.94-2.06-.94 2.06-2.06.94zm-11 1L8.5 8.5l.94-2.06 2.06-.94-2.06-.94L8.5 2.5l-.94 2.06-2.06.94zm10 10l.94 2.06.94-2.06 2.06-.94-2.06-.94-.94-2.06-.94 2.06-2.06.94z\"/><path d=\"M17.41 7.96l-1.37-1.37c-.4-.4-.92-.59-1.43-.59-.52 0-1.04.2-1.43.59L10.3 9.45l-7.72 7.72c-.78.78-.78 2.05 0 2.83L4 21.41c.39.39.9.59 1.41.59.51 0 1.02-.2 1.41-.59l7.78-7.78 2.81-2.81c.8-.78.8-2.07 0-2.86zM5.41 20L4 18.59l7.72-7.72 1.47 1.35L5.41 20z\"/>\n",
       "  </svg>\n",
       "      </button>\n",
       "      \n",
       "  <style>\n",
       "    .colab-df-container {\n",
       "      display:flex;\n",
       "      flex-wrap:wrap;\n",
       "      gap: 12px;\n",
       "    }\n",
       "\n",
       "    .colab-df-convert {\n",
       "      background-color: #E8F0FE;\n",
       "      border: none;\n",
       "      border-radius: 50%;\n",
       "      cursor: pointer;\n",
       "      display: none;\n",
       "      fill: #1967D2;\n",
       "      height: 32px;\n",
       "      padding: 0 0 0 0;\n",
       "      width: 32px;\n",
       "    }\n",
       "\n",
       "    .colab-df-convert:hover {\n",
       "      background-color: #E2EBFA;\n",
       "      box-shadow: 0px 1px 2px rgba(60, 64, 67, 0.3), 0px 1px 3px 1px rgba(60, 64, 67, 0.15);\n",
       "      fill: #174EA6;\n",
       "    }\n",
       "\n",
       "    [theme=dark] .colab-df-convert {\n",
       "      background-color: #3B4455;\n",
       "      fill: #D2E3FC;\n",
       "    }\n",
       "\n",
       "    [theme=dark] .colab-df-convert:hover {\n",
       "      background-color: #434B5C;\n",
       "      box-shadow: 0px 1px 3px 1px rgba(0, 0, 0, 0.15);\n",
       "      filter: drop-shadow(0px 1px 2px rgba(0, 0, 0, 0.3));\n",
       "      fill: #FFFFFF;\n",
       "    }\n",
       "  </style>\n",
       "\n",
       "      <script>\n",
       "        const buttonEl =\n",
       "          document.querySelector('#df-716d663a-c13d-4922-89fa-972563437c88 button.colab-df-convert');\n",
       "        buttonEl.style.display =\n",
       "          google.colab.kernel.accessAllowed ? 'block' : 'none';\n",
       "\n",
       "        async function convertToInteractive(key) {\n",
       "          const element = document.querySelector('#df-716d663a-c13d-4922-89fa-972563437c88');\n",
       "          const dataTable =\n",
       "            await google.colab.kernel.invokeFunction('convertToInteractive',\n",
       "                                                     [key], {});\n",
       "          if (!dataTable) return;\n",
       "\n",
       "          const docLinkHtml = 'Like what you see? Visit the ' +\n",
       "            '<a target=\"_blank\" href=https://colab.research.google.com/notebooks/data_table.ipynb>data table notebook</a>'\n",
       "            + ' to learn more about interactive tables.';\n",
       "          element.innerHTML = '';\n",
       "          dataTable['output_type'] = 'display_data';\n",
       "          await google.colab.output.renderOutput(dataTable, element);\n",
       "          const docLink = document.createElement('div');\n",
       "          docLink.innerHTML = docLinkHtml;\n",
       "          element.appendChild(docLink);\n",
       "        }\n",
       "      </script>\n",
       "    </div>\n",
       "  </div>\n",
       "  "
      ],
      "text/plain": [
       "   mean_fit_time  std_fit_time  mean_score_time  std_score_time  \\\n",
       "0       0.142384      0.011802         0.007906        0.002739   \n",
       "1       0.139162      0.019165         0.008826        0.001928   \n",
       "2       0.127177      0.008023         0.007042        0.000453   \n",
       "3       0.121811      0.004765         0.008603        0.002815   \n",
       "\n",
       "  param_fit_intercept param_normalize  \\\n",
       "0                True            True   \n",
       "1                True           False   \n",
       "2               False            True   \n",
       "3               False           False   \n",
       "\n",
       "                                         params  split0_test_score  \\\n",
       "0    {'fit_intercept': True, 'normalize': True}           0.978529   \n",
       "1   {'fit_intercept': True, 'normalize': False}           0.978522   \n",
       "2   {'fit_intercept': False, 'normalize': True}           0.978522   \n",
       "3  {'fit_intercept': False, 'normalize': False}           0.978522   \n",
       "\n",
       "   split1_test_score  split2_test_score  split3_test_score  split4_test_score  \\\n",
       "0           0.979049           0.976396      -3.552785e+20           0.978628   \n",
       "1           0.979052           0.976399       9.754352e-01           0.978629   \n",
       "2           0.979052           0.976399       9.754357e-01           0.978629   \n",
       "3           0.979052           0.976399       9.754357e-01           0.978629   \n",
       "\n",
       "   mean_test_score  std_test_score  rank_test_score  \n",
       "0    -7.105570e+19    1.421114e+20                4  \n",
       "1     9.776075e-01    1.424580e-03                3  \n",
       "2     9.776076e-01    1.424425e-03                1  \n",
       "3     9.776076e-01    1.424425e-03                1  "
      ]
     },
     "execution_count": 36,
     "metadata": {},
     "output_type": "execute_result"
    }
   ],
   "source": [
    "grid_df = pd.DataFrame(grid.cv_results_)\n",
    "\n",
    "grid_df "
   ]
  },
  {
   "cell_type": "code",
   "execution_count": null,
   "id": "01e190a9",
   "metadata": {
    "colab": {
     "base_uri": "https://localhost:8080/",
     "height": 175
    },
    "executionInfo": {
     "elapsed": 3,
     "status": "ok",
     "timestamp": 1667069754412,
     "user": {
      "displayName": "ESRAA ZAHAM ALYOUBI",
      "userId": "10961204535067338449"
     },
     "user_tz": -180
    },
    "id": "01e190a9",
    "outputId": "499a1f28-e580-4418-95bc-acbc527036b3"
   },
   "outputs": [
    {
     "data": {
      "text/html": [
       "\n",
       "  <div id=\"df-446c8b58-93e3-40f0-8e3c-a2b26321b0db\">\n",
       "    <div class=\"colab-df-container\">\n",
       "      <div>\n",
       "<style scoped>\n",
       "    .dataframe tbody tr th:only-of-type {\n",
       "        vertical-align: middle;\n",
       "    }\n",
       "\n",
       "    .dataframe tbody tr th {\n",
       "        vertical-align: top;\n",
       "    }\n",
       "\n",
       "    .dataframe thead th {\n",
       "        text-align: right;\n",
       "    }\n",
       "</style>\n",
       "<table border=\"1\" class=\"dataframe\">\n",
       "  <thead>\n",
       "    <tr style=\"text-align: right;\">\n",
       "      <th></th>\n",
       "      <th>param_fit_intercept</th>\n",
       "      <th>param_normalize</th>\n",
       "      <th>mean_test_score</th>\n",
       "      <th>rank_test_score</th>\n",
       "    </tr>\n",
       "  </thead>\n",
       "  <tbody>\n",
       "    <tr>\n",
       "      <th>0</th>\n",
       "      <td>True</td>\n",
       "      <td>True</td>\n",
       "      <td>-7.105570e+19</td>\n",
       "      <td>4</td>\n",
       "    </tr>\n",
       "    <tr>\n",
       "      <th>1</th>\n",
       "      <td>True</td>\n",
       "      <td>False</td>\n",
       "      <td>9.776075e-01</td>\n",
       "      <td>3</td>\n",
       "    </tr>\n",
       "    <tr>\n",
       "      <th>2</th>\n",
       "      <td>False</td>\n",
       "      <td>True</td>\n",
       "      <td>9.776076e-01</td>\n",
       "      <td>1</td>\n",
       "    </tr>\n",
       "    <tr>\n",
       "      <th>3</th>\n",
       "      <td>False</td>\n",
       "      <td>False</td>\n",
       "      <td>9.776076e-01</td>\n",
       "      <td>1</td>\n",
       "    </tr>\n",
       "  </tbody>\n",
       "</table>\n",
       "</div>\n",
       "      <button class=\"colab-df-convert\" onclick=\"convertToInteractive('df-446c8b58-93e3-40f0-8e3c-a2b26321b0db')\"\n",
       "              title=\"Convert this dataframe to an interactive table.\"\n",
       "              style=\"display:none;\">\n",
       "        \n",
       "  <svg xmlns=\"http://www.w3.org/2000/svg\" height=\"24px\"viewBox=\"0 0 24 24\"\n",
       "       width=\"24px\">\n",
       "    <path d=\"M0 0h24v24H0V0z\" fill=\"none\"/>\n",
       "    <path d=\"M18.56 5.44l.94 2.06.94-2.06 2.06-.94-2.06-.94-.94-2.06-.94 2.06-2.06.94zm-11 1L8.5 8.5l.94-2.06 2.06-.94-2.06-.94L8.5 2.5l-.94 2.06-2.06.94zm10 10l.94 2.06.94-2.06 2.06-.94-2.06-.94-.94-2.06-.94 2.06-2.06.94z\"/><path d=\"M17.41 7.96l-1.37-1.37c-.4-.4-.92-.59-1.43-.59-.52 0-1.04.2-1.43.59L10.3 9.45l-7.72 7.72c-.78.78-.78 2.05 0 2.83L4 21.41c.39.39.9.59 1.41.59.51 0 1.02-.2 1.41-.59l7.78-7.78 2.81-2.81c.8-.78.8-2.07 0-2.86zM5.41 20L4 18.59l7.72-7.72 1.47 1.35L5.41 20z\"/>\n",
       "  </svg>\n",
       "      </button>\n",
       "      \n",
       "  <style>\n",
       "    .colab-df-container {\n",
       "      display:flex;\n",
       "      flex-wrap:wrap;\n",
       "      gap: 12px;\n",
       "    }\n",
       "\n",
       "    .colab-df-convert {\n",
       "      background-color: #E8F0FE;\n",
       "      border: none;\n",
       "      border-radius: 50%;\n",
       "      cursor: pointer;\n",
       "      display: none;\n",
       "      fill: #1967D2;\n",
       "      height: 32px;\n",
       "      padding: 0 0 0 0;\n",
       "      width: 32px;\n",
       "    }\n",
       "\n",
       "    .colab-df-convert:hover {\n",
       "      background-color: #E2EBFA;\n",
       "      box-shadow: 0px 1px 2px rgba(60, 64, 67, 0.3), 0px 1px 3px 1px rgba(60, 64, 67, 0.15);\n",
       "      fill: #174EA6;\n",
       "    }\n",
       "\n",
       "    [theme=dark] .colab-df-convert {\n",
       "      background-color: #3B4455;\n",
       "      fill: #D2E3FC;\n",
       "    }\n",
       "\n",
       "    [theme=dark] .colab-df-convert:hover {\n",
       "      background-color: #434B5C;\n",
       "      box-shadow: 0px 1px 3px 1px rgba(0, 0, 0, 0.15);\n",
       "      filter: drop-shadow(0px 1px 2px rgba(0, 0, 0, 0.3));\n",
       "      fill: #FFFFFF;\n",
       "    }\n",
       "  </style>\n",
       "\n",
       "      <script>\n",
       "        const buttonEl =\n",
       "          document.querySelector('#df-446c8b58-93e3-40f0-8e3c-a2b26321b0db button.colab-df-convert');\n",
       "        buttonEl.style.display =\n",
       "          google.colab.kernel.accessAllowed ? 'block' : 'none';\n",
       "\n",
       "        async function convertToInteractive(key) {\n",
       "          const element = document.querySelector('#df-446c8b58-93e3-40f0-8e3c-a2b26321b0db');\n",
       "          const dataTable =\n",
       "            await google.colab.kernel.invokeFunction('convertToInteractive',\n",
       "                                                     [key], {});\n",
       "          if (!dataTable) return;\n",
       "\n",
       "          const docLinkHtml = 'Like what you see? Visit the ' +\n",
       "            '<a target=\"_blank\" href=https://colab.research.google.com/notebooks/data_table.ipynb>data table notebook</a>'\n",
       "            + ' to learn more about interactive tables.';\n",
       "          element.innerHTML = '';\n",
       "          dataTable['output_type'] = 'display_data';\n",
       "          await google.colab.output.renderOutput(dataTable, element);\n",
       "          const docLink = document.createElement('div');\n",
       "          docLink.innerHTML = docLinkHtml;\n",
       "          element.appendChild(docLink);\n",
       "        }\n",
       "      </script>\n",
       "    </div>\n",
       "  </div>\n",
       "  "
      ],
      "text/plain": [
       "  param_fit_intercept param_normalize  mean_test_score  rank_test_score\n",
       "0                True            True    -7.105570e+19                4\n",
       "1                True           False     9.776075e-01                3\n",
       "2               False            True     9.776076e-01                1\n",
       "3               False           False     9.776076e-01                1"
      ]
     },
     "execution_count": 37,
     "metadata": {},
     "output_type": "execute_result"
    }
   ],
   "source": [
    "parameters = ['param_fit_intercept', 'param_normalize', 'mean_test_score', 'rank_test_score']\n",
    "\n",
    "grid_df[parameters]"
   ]
  },
  {
   "cell_type": "code",
   "execution_count": null,
   "id": "36b98cce",
   "metadata": {
    "colab": {
     "base_uri": "https://localhost:8080/"
    },
    "executionInfo": {
     "elapsed": 3,
     "status": "ok",
     "timestamp": 1667069754941,
     "user": {
      "displayName": "ESRAA ZAHAM ALYOUBI",
      "userId": "10961204535067338449"
     },
     "user_tz": -180
    },
    "id": "36b98cce",
    "outputId": "43282307-a4ca-4863-8376-4a33dd24947b"
   },
   "outputs": [
    {
     "data": {
      "text/plain": [
       "{'fit_intercept': False, 'normalize': True}"
      ]
     },
     "execution_count": 38,
     "metadata": {},
     "output_type": "execute_result"
    }
   ],
   "source": [
    "# Note: if you have more than one combination \"possibility\" that give you the best score\n",
    "# then the first one in the list will be chosen\n",
    "\n",
    "# exmple option_1 ---> score: 0.87\n",
    "# exmple option_2 ---> score: 0.89\n",
    "# exmple option_3 ---> score: 0.80\n",
    "# exmple option_4 ---> score: 0.89\n",
    "\n",
    "# grid.best_params_ will give you option 2\n",
    "grid.best_params_"
   ]
  },
  {
   "cell_type": "code",
   "execution_count": null,
   "id": "7832d083",
   "metadata": {
    "colab": {
     "base_uri": "https://localhost:8080/"
    },
    "executionInfo": {
     "elapsed": 2,
     "status": "ok",
     "timestamp": 1667069756046,
     "user": {
      "displayName": "ESRAA ZAHAM ALYOUBI",
      "userId": "10961204535067338449"
     },
     "user_tz": -180
    },
    "id": "7832d083",
    "outputId": "056e972d-c24d-4cb7-f0de-45a1330f3ac2"
   },
   "outputs": [
    {
     "data": {
      "text/plain": [
       "0.9776076340899342"
      ]
     },
     "execution_count": 39,
     "metadata": {},
     "output_type": "execute_result"
    }
   ],
   "source": [
    "grid.best_score_"
   ]
  },
  {
   "cell_type": "code",
   "execution_count": null,
   "id": "8a68ba71",
   "metadata": {
    "id": "8a68ba71"
   },
   "outputs": [],
   "source": [
    "# From there, I still need to remake the model...\n",
    "lr = LinearRegression(fit_intercept=False,\n",
    "                      normalize=True)"
   ]
  },
  {
   "cell_type": "code",
   "execution_count": null,
   "id": "d3cf2b5c",
   "metadata": {
    "colab": {
     "base_uri": "https://localhost:8080/"
    },
    "executionInfo": {
     "elapsed": 2,
     "status": "ok",
     "timestamp": 1667069758293,
     "user": {
      "displayName": "ESRAA ZAHAM ALYOUBI",
      "userId": "10961204535067338449"
     },
     "user_tz": -180
    },
    "id": "d3cf2b5c",
    "outputId": "7156afee-92a4-4140-e31b-8a2bf120b39a"
   },
   "outputs": [
    {
     "name": "stderr",
     "output_type": "stream",
     "text": [
      "/usr/local/lib/python3.7/dist-packages/sklearn/linear_model/_base.py:145: FutureWarning: 'normalize' was deprecated in version 1.0 and will be removed in 1.2.\n",
      "If you wish to scale the data, use Pipeline with a StandardScaler in a preprocessing stage. To reproduce the previous behavior:\n",
      "\n",
      "from sklearn.pipeline import make_pipeline\n",
      "\n",
      "model = make_pipeline(StandardScaler(with_mean=False), LinearRegression())\n",
      "\n",
      "If you wish to pass a sample_weight parameter, you need to pass it as a fit parameter to each step of the pipeline as follows:\n",
      "\n",
      "kwargs = {s[0] + '__sample_weight': sample_weight for s in model.steps}\n",
      "model.fit(X, y, **kwargs)\n",
      "\n",
      "\n",
      "  FutureWarning,\n"
     ]
    },
    {
     "data": {
      "text/plain": [
       "LinearRegression(fit_intercept=False, normalize=True)"
      ]
     },
     "execution_count": 41,
     "metadata": {},
     "output_type": "execute_result"
    }
   ],
   "source": [
    "lr.fit(X_train, y_train)"
   ]
  },
  {
   "cell_type": "code",
   "execution_count": null,
   "id": "3074aac6",
   "metadata": {
    "id": "3074aac6"
   },
   "outputs": [],
   "source": [
    "preds = lr.predict(X_test)"
   ]
  },
  {
   "cell_type": "code",
   "execution_count": null,
   "id": "5a5c9eaa",
   "metadata": {
    "colab": {
     "base_uri": "https://localhost:8080/"
    },
    "executionInfo": {
     "elapsed": 7,
     "status": "ok",
     "timestamp": 1667069761336,
     "user": {
      "displayName": "ESRAA ZAHAM ALYOUBI",
      "userId": "10961204535067338449"
     },
     "user_tz": -180
    },
    "id": "5a5c9eaa",
    "outputId": "91b58eab-c38e-4b0c-c539-58f1d67b3c7f"
   },
   "outputs": [
    {
     "data": {
      "text/plain": [
       "0.9785360946536874"
      ]
     },
     "execution_count": 43,
     "metadata": {},
     "output_type": "execute_result"
    }
   ],
   "source": [
    "r2_score(y_true=y_test, y_pred=preds)"
   ]
  },
  {
   "cell_type": "code",
   "execution_count": null,
   "id": "480a9201",
   "metadata": {
    "colab": {
     "base_uri": "https://localhost:8080/"
    },
    "executionInfo": {
     "elapsed": 5,
     "status": "ok",
     "timestamp": 1667069761336,
     "user": {
      "displayName": "ESRAA ZAHAM ALYOUBI",
      "userId": "10961204535067338449"
     },
     "user_tz": -180
    },
    "id": "480a9201",
    "outputId": "c59267ff-bff2-4387-e25b-d926bbf6eb54"
   },
   "outputs": [
    {
     "data": {
      "text/plain": [
       "223.26613721441848"
      ]
     },
     "execution_count": 44,
     "metadata": {},
     "output_type": "execute_result"
    }
   ],
   "source": [
    "mean_absolute_error(y_true=y_test, y_pred=preds)"
   ]
  },
  {
   "cell_type": "code",
   "execution_count": null,
   "id": "45-w-ieFnz_8",
   "metadata": {
    "colab": {
     "base_uri": "https://localhost:8080/"
    },
    "executionInfo": {
     "elapsed": 2,
     "status": "ok",
     "timestamp": 1667069761786,
     "user": {
      "displayName": "ESRAA ZAHAM ALYOUBI",
      "userId": "10961204535067338449"
     },
     "user_tz": -180
    },
    "id": "45-w-ieFnz_8",
    "outputId": "bd10e264-55e1-462e-c383-68cc1e16f664"
   },
   "outputs": [
    {
     "name": "stdout",
     "output_type": "stream",
     "text": [
      "MAE: 223.26613721441848\n",
      "MSE: 101413.56080006914\n",
      "RMSE: 318.4549588247436\n"
     ]
    }
   ],
   "source": [
    "print('MAE:', metrics.mean_absolute_error(y_true=y_test, y_pred=preds))\n",
    "print('MSE:', metrics.mean_squared_error(y_true=y_test, y_pred=preds))\n",
    "print('RMSE:', np.sqrt(metrics.mean_squared_error(y_true=y_test, y_pred=preds)))"
   ]
  },
  {
   "cell_type": "code",
   "execution_count": null,
   "id": "n0NTgvzRn0KL",
   "metadata": {
    "id": "n0NTgvzRn0KL"
   },
   "outputs": [],
   "source": []
  },
  {
   "cell_type": "markdown",
   "id": "b8530c21",
   "metadata": {
    "id": "b8530c21"
   },
   "source": [
    "# Decision Tree Regressor"
   ]
  },
  {
   "cell_type": "code",
   "execution_count": null,
   "id": "2564717b",
   "metadata": {
    "colab": {
     "base_uri": "https://localhost:8080/"
    },
    "executionInfo": {
     "elapsed": 3,
     "status": "ok",
     "timestamp": 1667057967894,
     "user": {
      "displayName": "ESRAA ZAHAM ALYOUBI",
      "userId": "10961204535067338449"
     },
     "user_tz": -180
    },
    "id": "2564717b",
    "outputId": "51a03ad4-b251-4dde-a972-05b9f110218d"
   },
   "outputs": [
    {
     "name": "stderr",
     "output_type": "stream",
     "text": [
      "/usr/local/lib/python3.7/dist-packages/sklearn/tree/_classes.py:363: FutureWarning: Criterion 'mse' was deprecated in v1.0 and will be removed in version 1.2. Use `criterion='squared_error'` which is equivalent.\n",
      "  FutureWarning,\n"
     ]
    }
   ],
   "source": [
    "reg_tree = DecisionTreeRegressor(random_state = 0, max_depth= 5, criterion= 'mse')\n",
    "\n",
    "reg_tree.fit(X_train, y_train)\n",
    "\n",
    "preds_tree = reg_tree.predict(X_test)\n"
   ]
  },
  {
   "cell_type": "code",
   "execution_count": null,
   "id": "8e6700d8",
   "metadata": {
    "colab": {
     "base_uri": "https://localhost:8080/"
    },
    "executionInfo": {
     "elapsed": 2,
     "status": "ok",
     "timestamp": 1667057968334,
     "user": {
      "displayName": "ESRAA ZAHAM ALYOUBI",
      "userId": "10961204535067338449"
     },
     "user_tz": -180
    },
    "id": "8e6700d8",
    "outputId": "0ea1ab98-221f-46a7-83a5-0d2a19c001ca"
   },
   "outputs": [
    {
     "data": {
      "text/plain": [
       "array([3.78485606e-03, 4.41642348e-03, 0.00000000e+00, 9.30143614e-01,\n",
       "       6.08725678e-02, 0.00000000e+00, 0.00000000e+00, 0.00000000e+00,\n",
       "       0.00000000e+00, 0.00000000e+00, 7.82539040e-04, 0.00000000e+00,\n",
       "       0.00000000e+00, 0.00000000e+00, 0.00000000e+00, 0.00000000e+00,\n",
       "       0.00000000e+00, 0.00000000e+00, 0.00000000e+00, 0.00000000e+00,\n",
       "       0.00000000e+00, 0.00000000e+00, 0.00000000e+00, 0.00000000e+00,\n",
       "       0.00000000e+00, 0.00000000e+00, 0.00000000e+00, 0.00000000e+00,\n",
       "       0.00000000e+00, 0.00000000e+00, 0.00000000e+00, 0.00000000e+00,\n",
       "       0.00000000e+00, 0.00000000e+00, 0.00000000e+00, 0.00000000e+00,\n",
       "       0.00000000e+00, 0.00000000e+00, 0.00000000e+00, 0.00000000e+00,\n",
       "       0.00000000e+00, 0.00000000e+00, 0.00000000e+00, 0.00000000e+00,\n",
       "       0.00000000e+00, 0.00000000e+00, 0.00000000e+00, 0.00000000e+00,\n",
       "       0.00000000e+00, 0.00000000e+00, 0.00000000e+00, 0.00000000e+00,\n",
       "       0.00000000e+00, 0.00000000e+00, 0.00000000e+00, 0.00000000e+00,\n",
       "       0.00000000e+00, 0.00000000e+00, 0.00000000e+00, 0.00000000e+00,\n",
       "       0.00000000e+00, 0.00000000e+00, 0.00000000e+00, 0.00000000e+00,\n",
       "       0.00000000e+00, 0.00000000e+00, 0.00000000e+00, 0.00000000e+00,\n",
       "       0.00000000e+00, 0.00000000e+00, 0.00000000e+00, 0.00000000e+00,\n",
       "       0.00000000e+00, 0.00000000e+00, 0.00000000e+00, 0.00000000e+00,\n",
       "       0.00000000e+00, 0.00000000e+00, 0.00000000e+00, 0.00000000e+00,\n",
       "       0.00000000e+00, 0.00000000e+00, 0.00000000e+00, 0.00000000e+00,\n",
       "       0.00000000e+00, 0.00000000e+00, 0.00000000e+00, 0.00000000e+00,\n",
       "       0.00000000e+00, 0.00000000e+00, 0.00000000e+00, 0.00000000e+00,\n",
       "       0.00000000e+00, 0.00000000e+00, 0.00000000e+00, 0.00000000e+00,\n",
       "       0.00000000e+00, 0.00000000e+00, 0.00000000e+00, 0.00000000e+00,\n",
       "       0.00000000e+00, 0.00000000e+00, 0.00000000e+00, 0.00000000e+00,\n",
       "       0.00000000e+00, 0.00000000e+00, 0.00000000e+00, 0.00000000e+00,\n",
       "       0.00000000e+00, 0.00000000e+00, 0.00000000e+00, 0.00000000e+00,\n",
       "       0.00000000e+00, 0.00000000e+00, 0.00000000e+00, 0.00000000e+00,\n",
       "       0.00000000e+00, 0.00000000e+00, 0.00000000e+00, 0.00000000e+00,\n",
       "       0.00000000e+00, 0.00000000e+00, 0.00000000e+00, 0.00000000e+00,\n",
       "       0.00000000e+00, 0.00000000e+00, 0.00000000e+00, 0.00000000e+00,\n",
       "       0.00000000e+00, 0.00000000e+00, 0.00000000e+00, 0.00000000e+00,\n",
       "       0.00000000e+00, 0.00000000e+00, 0.00000000e+00, 0.00000000e+00,\n",
       "       0.00000000e+00, 0.00000000e+00, 0.00000000e+00, 0.00000000e+00,\n",
       "       0.00000000e+00, 0.00000000e+00, 0.00000000e+00, 0.00000000e+00,\n",
       "       0.00000000e+00, 0.00000000e+00, 0.00000000e+00, 0.00000000e+00])"
      ]
     },
     "execution_count": 129,
     "metadata": {},
     "output_type": "execute_result"
    }
   ],
   "source": [
    "reg_tree.feature_importances_"
   ]
  },
  {
   "cell_type": "code",
   "execution_count": null,
   "id": "551148f5",
   "metadata": {
    "colab": {
     "base_uri": "https://localhost:8080/"
    },
    "executionInfo": {
     "elapsed": 2,
     "status": "ok",
     "timestamp": 1667057969848,
     "user": {
      "displayName": "ESRAA ZAHAM ALYOUBI",
      "userId": "10961204535067338449"
     },
     "user_tz": -180
    },
    "id": "551148f5",
    "outputId": "9d900a91-b2f7-4ca2-ef81-2ca4dc0243f7"
   },
   "outputs": [
    {
     "name": "stdout",
     "output_type": "stream",
     "text": [
      "MAE: 209.16169570982345\n",
      "MSE: 113367.47235318852\n",
      "RMSE: 336.7008647942392\n"
     ]
    }
   ],
   "source": [
    "# without hyperparameter tuning \n",
    "\n",
    "print('MAE:', metrics.mean_absolute_error(y_true=y_test, y_pred=preds_tree))\n",
    "print('MSE:', metrics.mean_squared_error(y_true=y_test, y_pred=preds_tree))\n",
    "print('RMSE:', np.sqrt(metrics.mean_squared_error(y_true=y_test, y_pred=preds_tree)))"
   ]
  },
  {
   "cell_type": "code",
   "execution_count": null,
   "id": "90cccd97",
   "metadata": {
    "colab": {
     "base_uri": "https://localhost:8080/",
     "height": 575
    },
    "executionInfo": {
     "elapsed": 4083,
     "status": "ok",
     "timestamp": 1667057974467,
     "user": {
      "displayName": "ESRAA ZAHAM ALYOUBI",
      "userId": "10961204535067338449"
     },
     "user_tz": -180
    },
    "id": "90cccd97",
    "outputId": "a17bb902-3452-46d0-9d9f-1c8cd2d7f814"
   },
   "outputs": [
    {
     "data": {
      "image/png": "[encoded data removed]",
      "text/plain": [
       "<Figure size 1080x720 with 1 Axes>"
      ]
     },
     "metadata": {
      "needs_background": "light"
     },
     "output_type": "display_data"
    }
   ],
   "source": [
    "# Plot the decision tree\n",
    "plt.figure(figsize=(15,10))\n",
    "tree.plot_tree(\n",
    "    reg_tree, \n",
    "    filled=True,\n",
    "    rounded=True,\n",
    ");"
   ]
  },
  {
   "cell_type": "markdown",
   "id": "e409c174",
   "metadata": {
    "id": "e409c174"
   },
   "source": [
    "# Decision Tree Regressor - Tuning "
   ]
  },
  {
   "cell_type": "code",
   "execution_count": null,
   "id": "8695f335",
   "metadata": {
    "id": "8695f335"
   },
   "outputs": [],
   "source": [
    "# Hyper parameters range intialization for tuning \n",
    "\n",
    "parameters={\"splitter\":[\"best\",\"random\"],\n",
    "            \"max_depth\" : [1,3,5,7,9,11,12],\n",
    "           \"min_samples_leaf\":[1,2,3,4,5,6,7,8,9,10],\n",
    "           \"min_weight_fraction_leaf\":[0.1,0.2,0.3,0.4,0.5,0.6,0.7,0.8,0.9],\n",
    "           \"max_features\":[\"auto\",\"log2\",\"sqrt\",None],\n",
    "           \"max_leaf_nodes\":[None,10,20,30,40,50,60,70,80,90] }"
   ]
  },
  {
   "cell_type": "code",
   "execution_count": null,
   "id": "96d042a0",
   "metadata": {
    "id": "96d042a0"
   },
   "outputs": [],
   "source": [
    "tuning_model=GridSearchCV(reg_tree,param_grid=parameters,scoring='neg_mean_squared_error',cv=3,verbose=3)"
   ]
  },
  {
   "cell_type": "code",
   "execution_count": null,
   "id": "9790953b",
   "metadata": {
    "id": "9790953b"
   },
   "outputs": [],
   "source": [
    "# function for calculating how much time take for hyperparameter tuning\n",
    "\n",
    "def timer(start_time=None):\n",
    "    if not start_time:\n",
    "        start_time=datetime.now()\n",
    "        return start_time\n",
    "    elif start_time:\n",
    "        thour,temp_sec=divmod((datetime.now()-start_time).total_seconds(),3600)\n",
    "        tmin,tsec=divmod(temp_sec,60)\n",
    "        print(thour,\":\",tmin,':',round(tsec,2))"
   ]
  },
  {
   "cell_type": "code",
   "execution_count": null,
   "id": "c646d99b",
   "metadata": {
    "id": "c646d99b"
   },
   "outputs": [],
   "source": [
    "#X=df.iloc[:,:-1]\n"
   ]
  },
  {
   "cell_type": "code",
   "execution_count": null,
   "id": "a2f70a7b",
   "metadata": {
    "id": "a2f70a7b"
   },
   "outputs": [],
   "source": [
    "#y=df.iloc[:,-1]"
   ]
  },
  {
   "cell_type": "code",
   "execution_count": null,
   "id": "ed373026",
   "metadata": {
    "id": "ed373026"
   },
   "outputs": [],
   "source": [
    "%%capture\n",
    "from datetime import datetime\n",
    "\n",
    "start_time=timer(None)\n",
    "\n",
    "tuning_model.fit(X_train,y_train)\n",
    "\n",
    "timer(start_time)"
   ]
  },
  {
   "cell_type": "code",
   "execution_count": null,
   "id": "b1aafecd",
   "metadata": {
    "colab": {
     "base_uri": "https://localhost:8080/"
    },
    "executionInfo": {
     "elapsed": 522,
     "status": "ok",
     "timestamp": 1667060966993,
     "user": {
      "displayName": "ESRAA ZAHAM ALYOUBI",
      "userId": "10961204535067338449"
     },
     "user_tz": -180
    },
    "id": "b1aafecd",
    "outputId": "5ac07622-0a94-4fc2-c372-46d0bc7ab808"
   },
   "outputs": [
    {
     "data": {
      "text/plain": [
       "{'max_depth': 5,\n",
       " 'max_features': 'auto',\n",
       " 'max_leaf_nodes': None,\n",
       " 'min_samples_leaf': 1,\n",
       " 'min_weight_fraction_leaf': 0.1,\n",
       " 'splitter': 'best'}"
      ]
     },
     "execution_count": 140,
     "metadata": {},
     "output_type": "execute_result"
    }
   ],
   "source": [
    "# best hyperparameters \n",
    "tuning_model.best_params_"
   ]
  },
  {
   "cell_type": "code",
   "execution_count": null,
   "id": "59be3915",
   "metadata": {
    "colab": {
     "base_uri": "https://localhost:8080/"
    },
    "executionInfo": {
     "elapsed": 3,
     "status": "ok",
     "timestamp": 1667060971547,
     "user": {
      "displayName": "ESRAA ZAHAM ALYOUBI",
      "userId": "10961204535067338449"
     },
     "user_tz": -180
    },
    "id": "59be3915",
    "outputId": "4f7a38e1-fe0f-400b-d49f-1fc0380c32e5"
   },
   "outputs": [
    {
     "data": {
      "text/plain": [
       "-591998.7883957286"
      ]
     },
     "execution_count": 141,
     "metadata": {},
     "output_type": "execute_result"
    }
   ],
   "source": [
    "# best model score\n",
    "tuning_model.best_score_"
   ]
  },
  {
   "cell_type": "code",
   "execution_count": null,
   "id": "53d110e6",
   "metadata": {
    "id": "53d110e6"
   },
   "outputs": [],
   "source": [
    "#Training Decision Tree With Best Hyperparameters\n",
    "tuned_hyper_model= DecisionTreeRegressor(max_depth =5, max_features= 'auto',max_leaf_nodes= None, min_samples_leaf= 1, min_weight_fraction_leaf= 0.1,splitter= 'best')"
   ]
  },
  {
   "cell_type": "code",
   "execution_count": null,
   "id": "959489a5",
   "metadata": {
    "colab": {
     "base_uri": "https://localhost:8080/"
    },
    "executionInfo": {
     "elapsed": 4,
     "status": "ok",
     "timestamp": 1667060979990,
     "user": {
      "displayName": "ESRAA ZAHAM ALYOUBI",
      "userId": "10961204535067338449"
     },
     "user_tz": -180
    },
    "id": "959489a5",
    "outputId": "bf51e335-3309-42b4-a76b-2d57aed7bf9a"
   },
   "outputs": [
    {
     "data": {
      "text/plain": [
       "DecisionTreeRegressor(max_depth=5, max_features='auto',\n",
       "                      min_weight_fraction_leaf=0.1)"
      ]
     },
     "execution_count": 143,
     "metadata": {},
     "output_type": "execute_result"
    }
   ],
   "source": [
    "# fitting model\n",
    "\n",
    "tuned_hyper_model.fit(X_train,y_train)"
   ]
  },
  {
   "cell_type": "code",
   "execution_count": null,
   "id": "556e4c80",
   "metadata": {
    "id": "556e4c80"
   },
   "outputs": [],
   "source": [
    "# prediction \n",
    "\n",
    "tuned_pred=tuned_hyper_model.predict(X_test)"
   ]
  },
  {
   "cell_type": "code",
   "execution_count": null,
   "id": "8806a9c8",
   "metadata": {
    "colab": {
     "base_uri": "https://localhost:8080/"
    },
    "executionInfo": {
     "elapsed": 766,
     "status": "ok",
     "timestamp": 1667060987263,
     "user": {
      "displayName": "ESRAA ZAHAM ALYOUBI",
      "userId": "10961204535067338449"
     },
     "user_tz": -180
    },
    "id": "8806a9c8",
    "outputId": "3b7236a0-c9ce-4e22-f9d3-20782eca6de6"
   },
   "outputs": [
    {
     "name": "stdout",
     "output_type": "stream",
     "text": [
      "MAE: 430.1505553385447\n",
      "MSE: 549222.053000202\n",
      "RMSE: 741.0951713512928\n"
     ]
    }
   ],
   "source": [
    "print('MAE:', metrics.mean_absolute_error(y_test,tuned_pred))\n",
    "print('MSE:', metrics.mean_squared_error(y_test, tuned_pred))\n",
    "print('RMSE:', np.sqrt(metrics.mean_squared_error(y_test, tuned_pred)))"
   ]
  },
  {
   "cell_type": "markdown",
   "id": "73787eb6",
   "metadata": {
    "id": "73787eb6"
   },
   "source": [
    "# Support Vector Resgressor "
   ]
  },
  {
   "cell_type": "code",
   "execution_count": 29,
   "id": "899b51f1",
   "metadata": {},
   "outputs": [],
   "source": [
    "scaler = StandardScaler()\n",
    "# Fit & transform data.\n",
    "X_train_sc = scaler.fit_transform(X_train)\n",
    "X_test_sc = scaler.transform(X_test)"
   ]
  },
  {
   "cell_type": "code",
   "execution_count": 30,
   "id": "790a885b",
   "metadata": {
    "colab": {
     "base_uri": "https://localhost:8080/"
    },
    "executionInfo": {
     "elapsed": 4877261,
     "status": "ok",
     "timestamp": 1667066024981,
     "user": {
      "displayName": "ESRAA ZAHAM ALYOUBI",
      "userId": "10961204535067338449"
     },
     "user_tz": -180
    },
    "id": "790a885b",
    "outputId": "5aeb91cf-6a11-4bbc-f1b3-73b7bf2f3faa"
   },
   "outputs": [
    {
     "data": {
      "text/plain": [
       "0.961854075614748"
      ]
     },
     "execution_count": 30,
     "metadata": {},
     "output_type": "execute_result"
    }
   ],
   "source": [
    "reg_svr = SVR(kernel = 'linear')\n",
    "reg_svr.fit(X_train_sc, y_train)\n",
    "preds_svr = reg_svr.predict(X_test_sc)\n",
    "reg_svr.score(X_test_sc, y_test)"
   ]
  },
  {
   "cell_type": "code",
   "execution_count": 31,
   "id": "_mGq-HfQeJcJ",
   "metadata": {
    "colab": {
     "base_uri": "https://localhost:8080/"
    },
    "executionInfo": {
     "elapsed": 3,
     "status": "ok",
     "timestamp": 1667066098849,
     "user": {
      "displayName": "ESRAA ZAHAM ALYOUBI",
      "userId": "10961204535067338449"
     },
     "user_tz": -180
    },
    "id": "_mGq-HfQeJcJ",
    "outputId": "82061010-0f15-42c0-f521-2d7901d35a22"
   },
   "outputs": [
    {
     "name": "stdout",
     "output_type": "stream",
     "text": [
      "MAE: 225.68936225317952\n",
      "MSE: 180233.46448381466\n",
      "RMSE: 424.5391200864941\n"
     ]
    }
   ],
   "source": [
    "print('MAE:', metrics.mean_absolute_error(y_true=y_test, y_pred=preds_svr))\n",
    "print('MSE:', metrics.mean_squared_error(y_true=y_test, y_pred=preds_svr))\n",
    "print('RMSE:', np.sqrt(metrics.mean_squared_error(y_true=y_test, y_pred=preds_svr)))"
   ]
  },
  {
   "cell_type": "markdown",
   "id": "5ccbd636",
   "metadata": {
    "id": "5ccbd636"
   },
   "source": [
    "# Support Vector Resgressor - Tuning "
   ]
  },
  {
   "cell_type": "code",
   "execution_count": 32,
   "id": "5029cf62",
   "metadata": {},
   "outputs": [
    {
     "name": "stdout",
     "output_type": "stream",
     "text": [
      "Fitting 5 folds for each of 4 candidates, totalling 20 fits\n",
      "[CV] END ......................C=0.1, gamma=1, kernel=linear; total time=  13.3s\n",
      "[CV] END ......................C=0.1, gamma=1, kernel=linear; total time=  14.4s\n",
      "[CV] END ......................C=0.1, gamma=1, kernel=linear; total time=  13.1s\n",
      "[CV] END ......................C=0.1, gamma=1, kernel=linear; total time=  12.9s\n",
      "[CV] END ......................C=0.1, gamma=1, kernel=linear; total time=  13.0s\n",
      "[CV] END ....................C=0.1, gamma=0.1, kernel=linear; total time=  13.2s\n",
      "[CV] END ....................C=0.1, gamma=0.1, kernel=linear; total time=  13.3s\n",
      "[CV] END ....................C=0.1, gamma=0.1, kernel=linear; total time=  13.4s\n",
      "[CV] END ....................C=0.1, gamma=0.1, kernel=linear; total time=  13.0s\n",
      "[CV] END ....................C=0.1, gamma=0.1, kernel=linear; total time=  13.6s\n",
      "[CV] END ........................C=1, gamma=1, kernel=linear; total time=  18.5s\n",
      "[CV] END ........................C=1, gamma=1, kernel=linear; total time=  15.8s\n",
      "[CV] END ........................C=1, gamma=1, kernel=linear; total time=  15.5s\n",
      "[CV] END ........................C=1, gamma=1, kernel=linear; total time=  14.2s\n",
      "[CV] END ........................C=1, gamma=1, kernel=linear; total time=  14.1s\n",
      "[CV] END ......................C=1, gamma=0.1, kernel=linear; total time=  13.7s\n",
      "[CV] END ......................C=1, gamma=0.1, kernel=linear; total time=  14.1s\n",
      "[CV] END ......................C=1, gamma=0.1, kernel=linear; total time=  13.8s\n",
      "[CV] END ......................C=1, gamma=0.1, kernel=linear; total time=  14.5s\n",
      "[CV] END ......................C=1, gamma=0.1, kernel=linear; total time=  14.5s\n"
     ]
    },
    {
     "data": {
      "text/plain": [
       "GridSearchCV(estimator=SVR(kernel='linear'),\n",
       "             param_grid={'C': [0.1, 1], 'gamma': [1, 0.1],\n",
       "                         'kernel': ['linear']},\n",
       "             verbose=2)"
      ]
     },
     "execution_count": 32,
     "metadata": {},
     "output_type": "execute_result"
    }
   ],
   "source": [
    "param_grid = {'C': [0.1,1], 'gamma': [1,0.1],'kernel': ['linear']}\n",
    "grid = GridSearchCV(\n",
    "    reg_svr,\n",
    "    param_grid,\n",
    "    refit=True,\n",
    "    verbose=2)\n",
    "grid.fit(X_train_sc,y_train)"
   ]
  },
  {
   "cell_type": "code",
   "execution_count": 33,
   "id": "fXwtxP0Z4-jW",
   "metadata": {
    "id": "fXwtxP0Z4-jW"
   },
   "outputs": [
    {
     "data": {
      "text/plain": [
       "SVR(C=1, gamma=1, kernel='linear')"
      ]
     },
     "execution_count": 33,
     "metadata": {},
     "output_type": "execute_result"
    }
   ],
   "source": [
    "grid.best_estimator_\n"
   ]
  },
  {
   "cell_type": "code",
   "execution_count": 34,
   "id": "b72a8d71",
   "metadata": {},
   "outputs": [
    {
     "data": {
      "text/plain": [
       "0.9565314103894614"
      ]
     },
     "execution_count": 34,
     "metadata": {},
     "output_type": "execute_result"
    }
   ],
   "source": [
    "grid.best_score_"
   ]
  },
  {
   "cell_type": "code",
   "execution_count": 36,
   "id": "VJ10YQrU4-vf",
   "metadata": {
    "id": "VJ10YQrU4-vf"
   },
   "outputs": [],
   "source": [
    "grid_predictions = grid.predict(X_test_sc)"
   ]
  },
  {
   "cell_type": "code",
   "execution_count": 37,
   "id": "rFCBEg965DaW",
   "metadata": {
    "id": "rFCBEg965DaW"
   },
   "outputs": [
    {
     "name": "stdout",
     "output_type": "stream",
     "text": [
      "MAE: 225.68936225317952\n",
      "MSE: 180233.46448381466\n",
      "RMSE: 424.5391200864941\n"
     ]
    }
   ],
   "source": [
    "print('MAE:', metrics.mean_absolute_error(y_true=y_test, y_pred=grid_predictions))\n",
    "print('MSE:', metrics.mean_squared_error(y_true=y_test, y_pred=grid_predictions))\n",
    "print('RMSE:', np.sqrt(metrics.mean_squared_error(y_true=y_test, y_pred=grid_predictions)))"
   ]
  },
  {
   "cell_type": "markdown",
   "id": "h76DuzMIbIEL",
   "metadata": {
    "id": "h76DuzMIbIEL"
   },
   "source": [
    "# The best regression model :"
   ]
  },
  {
   "cell_type": "code",
   "execution_count": 38,
   "id": "M5SUoKjcbRW6",
   "metadata": {
    "id": "M5SUoKjcbRW6"
   },
   "outputs": [
    {
     "data": {
      "text/plain": [
       "0.9785664818077269"
      ]
     },
     "execution_count": 38,
     "metadata": {},
     "output_type": "execute_result"
    }
   ],
   "source": [
    "# Create a Pipeline for our model\n",
    "pipe = make_pipeline(\n",
    "    # scale columns \n",
    "    StandardScaler(),\n",
    "    # apply the model\n",
    "    LinearRegression()\n",
    ")\n",
    "\n",
    "pipe.fit(X_train,y_train)\n",
    "pipe.score(X_test, y_test)"
   ]
  },
  {
   "cell_type": "code",
   "execution_count": null,
   "id": "bede4d08",
   "metadata": {},
   "outputs": [],
   "source": []
  }
 ],
 "metadata": {
  "accelerator": "GPU",
  "colab": {
   "collapsed_sections": [],
   "provenance": []
  },
  "gpuClass": "standard",
  "kernelspec": {
   "display_name": "Python 3",
   "language": "python",
   "name": "python3"
  },
  "language_info": {
   "codemirror_mode": {
    "name": "ipython",
    "version": 3
   },
   "file_extension": ".py",
   "mimetype": "text/x-python",
   "name": "python",
   "nbconvert_exporter": "python",
   "pygments_lexer": "ipython3",
   "version": "3.8.8"
  }
 },
 "nbformat": 4,
 "nbformat_minor": 5
}
